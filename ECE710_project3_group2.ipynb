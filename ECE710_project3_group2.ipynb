{
  "nbformat": 4,
  "nbformat_minor": 0,
  "metadata": {
    "colab": {
      "name": "ECE710_project3_group2.ipynb",
      "provenance": [],
      "collapsed_sections": [
        "vchopQOmg0zi",
        "lG91kvZhsMu7",
        "5mWhA8DVzts8",
        "lQ6gibmJ0GGN",
        "37E7tteXfrNE",
        "Qi_MdRMezw3k",
        "MFSwygYNwMB0",
        "f3K81bQXgIJM",
        "FKgEMeE09cHC",
        "T4WAVGKxR3wE",
        "PggOw93SSDr-",
        "1AnO90vaSSrf"
      ],
      "include_colab_link": true
    },
    "kernelspec": {
      "name": "python3",
      "display_name": "Python 3"
    },
    "language_info": {
      "name": "python"
    }
  },
  "cells": [
    {
      "cell_type": "markdown",
      "metadata": {
        "id": "view-in-github",
        "colab_type": "text"
      },
      "source": [
        "<a href=\"https://colab.research.google.com/github/Pgao4/Machine_learning_demo/blob/main/ECE710_project3_group2.ipynb\" target=\"_parent\"><img src=\"https://colab.research.google.com/assets/colab-badge.svg\" alt=\"Open In Colab\"/></a>"
      ]
    },
    {
      "cell_type": "markdown",
      "source": [
        "<center><font size=5>ECE 710 - Project 3</font></center>\n",
        "<center><b>Group Member: Pengfei Gao & Shuo Wang</b></center>"
      ],
      "metadata": {
        "id": "gTHIyjGSgqpg"
      }
    },
    {
      "cell_type": "code",
      "source": [
        "from google.colab import drive\n",
        "drive.mount('/content/drive')"
      ],
      "metadata": {
        "colab": {
          "base_uri": "https://localhost:8080/"
        },
        "id": "iNOxriMBRYv6",
        "outputId": "7e396a7d-7e8e-4039-fbe4-cfab5926b44d"
      },
      "execution_count": null,
      "outputs": [
        {
          "output_type": "stream",
          "name": "stdout",
          "text": [
            "Mounted at /content/drive\n"
          ]
        }
      ]
    },
    {
      "cell_type": "code",
      "source": [
        "import numpy as np\n",
        "import pandas as pd\n",
        "import matplotlib.pyplot as plt"
      ],
      "metadata": {
        "id": "KSMqJAgBgxyz"
      },
      "execution_count": null,
      "outputs": []
    },
    {
      "cell_type": "markdown",
      "source": [
        "# Downsampling"
      ],
      "metadata": {
        "id": "vchopQOmg0zi"
      }
    },
    {
      "cell_type": "code",
      "source": [
        "# load the data\n",
        "df = pd.read_csv('/content/drive/MyDrive/Colab Notebooks/Data for Project 3.csv')"
      ],
      "metadata": {
        "id": "O-4fSVi5g6cK"
      },
      "execution_count": null,
      "outputs": []
    },
    {
      "cell_type": "code",
      "source": [
        "df.info()        # datatype\n",
        "df.describe()    # mean, std"
      ],
      "metadata": {
        "id": "ZigpbpnDo6MU",
        "colab": {
          "base_uri": "https://localhost:8080/"
        },
        "outputId": "f42ad85d-bc27-41e9-f36b-4a27cc2ccc43"
      },
      "execution_count": null,
      "outputs": [
        {
          "output_type": "stream",
          "name": "stdout",
          "text": [
            "<class 'pandas.core.frame.DataFrame'>\n",
            "RangeIndex: 1285421 entries, 0 to 1285420\n",
            "Data columns (total 10 columns):\n",
            " #   Column         Non-Null Count    Dtype  \n",
            "---  ------         --------------    -----  \n",
            " 0   Empatica_ACCX  1221855 non-null  float64\n",
            " 1   Empatica_ACCY  1221855 non-null  float64\n",
            " 2   Empatica_ACCZ  1221855 non-null  float64\n",
            " 3   Empatica_HR    305154 non-null   float64\n",
            " 4   Hexoskin_HR    290924 non-null   float64\n",
            " 5   Hexoskin_RR    290924 non-null   float64\n",
            " 6   Hexoskin_ACCX  1163758 non-null  float64\n",
            " 7   Hexoskin_ACCY  1163758 non-null  float64\n",
            " 8   Hexoskin_ACCZ  1163758 non-null  float64\n",
            " 9   Activity       1285386 non-null  object \n",
            "dtypes: float64(9), object(1)\n",
            "memory usage: 98.1+ MB\n"
          ]
        },
        {
          "output_type": "execute_result",
          "data": {
            "text/plain": [
              "       Empatica_ACCX  Empatica_ACCY  Empatica_ACCZ    Empatica_HR  \\\n",
              "count   1.221855e+06   1.221855e+06   1.221855e+06  305154.000000   \n",
              "mean    1.475432e-01  -6.483944e-03   3.299203e-01      75.057116   \n",
              "std     6.489086e-01   4.466842e-01   4.942834e-01      15.830873   \n",
              "min    -1.950000e+00  -1.750000e+00  -1.700000e+00      47.030000   \n",
              "25%    -4.200000e-01  -3.300000e-01   3.000000e-02      61.020000   \n",
              "50%     2.500000e-01  -1.000000e-02   4.500000e-01      75.820000   \n",
              "75%     7.500000e-01   3.200000e-01   7.300000e-01      84.220000   \n",
              "max     1.900000e+00   1.920000e+00   1.790000e+00     174.770000   \n",
              "\n",
              "         Hexoskin_HR    Hexoskin_RR  Hexoskin_ACCX  Hexoskin_ACCY  \\\n",
              "count  290924.000000  290924.000000   1.163758e+06   1.163758e+06   \n",
              "mean       76.437317      16.013223   3.249933e-02  -5.076208e-01   \n",
              "std        19.680226       4.393594   5.294778e-01   5.015478e-01   \n",
              "min        30.000000       3.000000  -2.000000e+00  -2.530000e+00   \n",
              "25%        60.000000      13.000000  -2.900000e-01  -9.400000e-01   \n",
              "50%        75.000000      15.000000   1.000000e-02  -7.100000e-01   \n",
              "75%        87.000000      19.000000   4.000000e-01  -1.500000e-01   \n",
              "max       187.000000      64.000000   2.000000e+00   1.020000e+00   \n",
              "\n",
              "       Hexoskin_ACCZ  \n",
              "count   1.163758e+06  \n",
              "mean   -4.558605e-02  \n",
              "std     4.599337e-01  \n",
              "min    -1.280000e+00  \n",
              "25%    -3.600000e-01  \n",
              "50%    -1.100000e-01  \n",
              "75%     2.100000e-01  \n",
              "max     1.420000e+00  "
            ],
            "text/html": [
              "\n",
              "  <div id=\"df-72725561-54cc-42a8-99ba-f9bc998bb102\">\n",
              "    <div class=\"colab-df-container\">\n",
              "      <div>\n",
              "<style scoped>\n",
              "    .dataframe tbody tr th:only-of-type {\n",
              "        vertical-align: middle;\n",
              "    }\n",
              "\n",
              "    .dataframe tbody tr th {\n",
              "        vertical-align: top;\n",
              "    }\n",
              "\n",
              "    .dataframe thead th {\n",
              "        text-align: right;\n",
              "    }\n",
              "</style>\n",
              "<table border=\"1\" class=\"dataframe\">\n",
              "  <thead>\n",
              "    <tr style=\"text-align: right;\">\n",
              "      <th></th>\n",
              "      <th>Empatica_ACCX</th>\n",
              "      <th>Empatica_ACCY</th>\n",
              "      <th>Empatica_ACCZ</th>\n",
              "      <th>Empatica_HR</th>\n",
              "      <th>Hexoskin_HR</th>\n",
              "      <th>Hexoskin_RR</th>\n",
              "      <th>Hexoskin_ACCX</th>\n",
              "      <th>Hexoskin_ACCY</th>\n",
              "      <th>Hexoskin_ACCZ</th>\n",
              "    </tr>\n",
              "  </thead>\n",
              "  <tbody>\n",
              "    <tr>\n",
              "      <th>count</th>\n",
              "      <td>1.221855e+06</td>\n",
              "      <td>1.221855e+06</td>\n",
              "      <td>1.221855e+06</td>\n",
              "      <td>305154.000000</td>\n",
              "      <td>290924.000000</td>\n",
              "      <td>290924.000000</td>\n",
              "      <td>1.163758e+06</td>\n",
              "      <td>1.163758e+06</td>\n",
              "      <td>1.163758e+06</td>\n",
              "    </tr>\n",
              "    <tr>\n",
              "      <th>mean</th>\n",
              "      <td>1.475432e-01</td>\n",
              "      <td>-6.483944e-03</td>\n",
              "      <td>3.299203e-01</td>\n",
              "      <td>75.057116</td>\n",
              "      <td>76.437317</td>\n",
              "      <td>16.013223</td>\n",
              "      <td>3.249933e-02</td>\n",
              "      <td>-5.076208e-01</td>\n",
              "      <td>-4.558605e-02</td>\n",
              "    </tr>\n",
              "    <tr>\n",
              "      <th>std</th>\n",
              "      <td>6.489086e-01</td>\n",
              "      <td>4.466842e-01</td>\n",
              "      <td>4.942834e-01</td>\n",
              "      <td>15.830873</td>\n",
              "      <td>19.680226</td>\n",
              "      <td>4.393594</td>\n",
              "      <td>5.294778e-01</td>\n",
              "      <td>5.015478e-01</td>\n",
              "      <td>4.599337e-01</td>\n",
              "    </tr>\n",
              "    <tr>\n",
              "      <th>min</th>\n",
              "      <td>-1.950000e+00</td>\n",
              "      <td>-1.750000e+00</td>\n",
              "      <td>-1.700000e+00</td>\n",
              "      <td>47.030000</td>\n",
              "      <td>30.000000</td>\n",
              "      <td>3.000000</td>\n",
              "      <td>-2.000000e+00</td>\n",
              "      <td>-2.530000e+00</td>\n",
              "      <td>-1.280000e+00</td>\n",
              "    </tr>\n",
              "    <tr>\n",
              "      <th>25%</th>\n",
              "      <td>-4.200000e-01</td>\n",
              "      <td>-3.300000e-01</td>\n",
              "      <td>3.000000e-02</td>\n",
              "      <td>61.020000</td>\n",
              "      <td>60.000000</td>\n",
              "      <td>13.000000</td>\n",
              "      <td>-2.900000e-01</td>\n",
              "      <td>-9.400000e-01</td>\n",
              "      <td>-3.600000e-01</td>\n",
              "    </tr>\n",
              "    <tr>\n",
              "      <th>50%</th>\n",
              "      <td>2.500000e-01</td>\n",
              "      <td>-1.000000e-02</td>\n",
              "      <td>4.500000e-01</td>\n",
              "      <td>75.820000</td>\n",
              "      <td>75.000000</td>\n",
              "      <td>15.000000</td>\n",
              "      <td>1.000000e-02</td>\n",
              "      <td>-7.100000e-01</td>\n",
              "      <td>-1.100000e-01</td>\n",
              "    </tr>\n",
              "    <tr>\n",
              "      <th>75%</th>\n",
              "      <td>7.500000e-01</td>\n",
              "      <td>3.200000e-01</td>\n",
              "      <td>7.300000e-01</td>\n",
              "      <td>84.220000</td>\n",
              "      <td>87.000000</td>\n",
              "      <td>19.000000</td>\n",
              "      <td>4.000000e-01</td>\n",
              "      <td>-1.500000e-01</td>\n",
              "      <td>2.100000e-01</td>\n",
              "    </tr>\n",
              "    <tr>\n",
              "      <th>max</th>\n",
              "      <td>1.900000e+00</td>\n",
              "      <td>1.920000e+00</td>\n",
              "      <td>1.790000e+00</td>\n",
              "      <td>174.770000</td>\n",
              "      <td>187.000000</td>\n",
              "      <td>64.000000</td>\n",
              "      <td>2.000000e+00</td>\n",
              "      <td>1.020000e+00</td>\n",
              "      <td>1.420000e+00</td>\n",
              "    </tr>\n",
              "  </tbody>\n",
              "</table>\n",
              "</div>\n",
              "      <button class=\"colab-df-convert\" onclick=\"convertToInteractive('df-72725561-54cc-42a8-99ba-f9bc998bb102')\"\n",
              "              title=\"Convert this dataframe to an interactive table.\"\n",
              "              style=\"display:none;\">\n",
              "        \n",
              "  <svg xmlns=\"http://www.w3.org/2000/svg\" height=\"24px\"viewBox=\"0 0 24 24\"\n",
              "       width=\"24px\">\n",
              "    <path d=\"M0 0h24v24H0V0z\" fill=\"none\"/>\n",
              "    <path d=\"M18.56 5.44l.94 2.06.94-2.06 2.06-.94-2.06-.94-.94-2.06-.94 2.06-2.06.94zm-11 1L8.5 8.5l.94-2.06 2.06-.94-2.06-.94L8.5 2.5l-.94 2.06-2.06.94zm10 10l.94 2.06.94-2.06 2.06-.94-2.06-.94-.94-2.06-.94 2.06-2.06.94z\"/><path d=\"M17.41 7.96l-1.37-1.37c-.4-.4-.92-.59-1.43-.59-.52 0-1.04.2-1.43.59L10.3 9.45l-7.72 7.72c-.78.78-.78 2.05 0 2.83L4 21.41c.39.39.9.59 1.41.59.51 0 1.02-.2 1.41-.59l7.78-7.78 2.81-2.81c.8-.78.8-2.07 0-2.86zM5.41 20L4 18.59l7.72-7.72 1.47 1.35L5.41 20z\"/>\n",
              "  </svg>\n",
              "      </button>\n",
              "      \n",
              "  <style>\n",
              "    .colab-df-container {\n",
              "      display:flex;\n",
              "      flex-wrap:wrap;\n",
              "      gap: 12px;\n",
              "    }\n",
              "\n",
              "    .colab-df-convert {\n",
              "      background-color: #E8F0FE;\n",
              "      border: none;\n",
              "      border-radius: 50%;\n",
              "      cursor: pointer;\n",
              "      display: none;\n",
              "      fill: #1967D2;\n",
              "      height: 32px;\n",
              "      padding: 0 0 0 0;\n",
              "      width: 32px;\n",
              "    }\n",
              "\n",
              "    .colab-df-convert:hover {\n",
              "      background-color: #E2EBFA;\n",
              "      box-shadow: 0px 1px 2px rgba(60, 64, 67, 0.3), 0px 1px 3px 1px rgba(60, 64, 67, 0.15);\n",
              "      fill: #174EA6;\n",
              "    }\n",
              "\n",
              "    [theme=dark] .colab-df-convert {\n",
              "      background-color: #3B4455;\n",
              "      fill: #D2E3FC;\n",
              "    }\n",
              "\n",
              "    [theme=dark] .colab-df-convert:hover {\n",
              "      background-color: #434B5C;\n",
              "      box-shadow: 0px 1px 3px 1px rgba(0, 0, 0, 0.15);\n",
              "      filter: drop-shadow(0px 1px 2px rgba(0, 0, 0, 0.3));\n",
              "      fill: #FFFFFF;\n",
              "    }\n",
              "  </style>\n",
              "\n",
              "      <script>\n",
              "        const buttonEl =\n",
              "          document.querySelector('#df-72725561-54cc-42a8-99ba-f9bc998bb102 button.colab-df-convert');\n",
              "        buttonEl.style.display =\n",
              "          google.colab.kernel.accessAllowed ? 'block' : 'none';\n",
              "\n",
              "        async function convertToInteractive(key) {\n",
              "          const element = document.querySelector('#df-72725561-54cc-42a8-99ba-f9bc998bb102');\n",
              "          const dataTable =\n",
              "            await google.colab.kernel.invokeFunction('convertToInteractive',\n",
              "                                                     [key], {});\n",
              "          if (!dataTable) return;\n",
              "\n",
              "          const docLinkHtml = 'Like what you see? Visit the ' +\n",
              "            '<a target=\"_blank\" href=https://colab.research.google.com/notebooks/data_table.ipynb>data table notebook</a>'\n",
              "            + ' to learn more about interactive tables.';\n",
              "          element.innerHTML = '';\n",
              "          dataTable['output_type'] = 'display_data';\n",
              "          await google.colab.output.renderOutput(dataTable, element);\n",
              "          const docLink = document.createElement('div');\n",
              "          docLink.innerHTML = docLinkHtml;\n",
              "          element.appendChild(docLink);\n",
              "        }\n",
              "      </script>\n",
              "    </div>\n",
              "  </div>\n",
              "  "
            ]
          },
          "metadata": {},
          "execution_count": 5
        }
      ]
    },
    {
      "cell_type": "code",
      "source": [
        "df.head()"
      ],
      "metadata": {
        "colab": {
          "base_uri": "https://localhost:8080/"
        },
        "id": "FeGQdQ5IqWlE",
        "outputId": "7ac7a25f-631e-4fec-b1bd-af1685f98aa0"
      },
      "execution_count": null,
      "outputs": [
        {
          "output_type": "execute_result",
          "data": {
            "text/plain": [
              "   Empatica_ACCX  Empatica_ACCY  Empatica_ACCZ  Empatica_HR  Hexoskin_HR  \\\n",
              "0            NaN            NaN            NaN          NaN          NaN   \n",
              "1            NaN            NaN            NaN          NaN          NaN   \n",
              "2            NaN            NaN            NaN          NaN          NaN   \n",
              "3            NaN            NaN            NaN          NaN          NaN   \n",
              "4            NaN            NaN            NaN          NaN         70.0   \n",
              "\n",
              "   Hexoskin_RR  Hexoskin_ACCX  Hexoskin_ACCY  Hexoskin_ACCZ Activity  \n",
              "0          NaN           0.31          -0.09          -0.71      Out  \n",
              "1          NaN           0.11           0.02          -0.88      Out  \n",
              "2          NaN           0.78          -0.34           0.09      Out  \n",
              "3          NaN           1.01          -0.82           0.17      Out  \n",
              "4         10.0           0.83          -0.47           0.33      Out  "
            ],
            "text/html": [
              "\n",
              "  <div id=\"df-9dbd9206-fe6a-4d67-9635-4cfe30a734bf\">\n",
              "    <div class=\"colab-df-container\">\n",
              "      <div>\n",
              "<style scoped>\n",
              "    .dataframe tbody tr th:only-of-type {\n",
              "        vertical-align: middle;\n",
              "    }\n",
              "\n",
              "    .dataframe tbody tr th {\n",
              "        vertical-align: top;\n",
              "    }\n",
              "\n",
              "    .dataframe thead th {\n",
              "        text-align: right;\n",
              "    }\n",
              "</style>\n",
              "<table border=\"1\" class=\"dataframe\">\n",
              "  <thead>\n",
              "    <tr style=\"text-align: right;\">\n",
              "      <th></th>\n",
              "      <th>Empatica_ACCX</th>\n",
              "      <th>Empatica_ACCY</th>\n",
              "      <th>Empatica_ACCZ</th>\n",
              "      <th>Empatica_HR</th>\n",
              "      <th>Hexoskin_HR</th>\n",
              "      <th>Hexoskin_RR</th>\n",
              "      <th>Hexoskin_ACCX</th>\n",
              "      <th>Hexoskin_ACCY</th>\n",
              "      <th>Hexoskin_ACCZ</th>\n",
              "      <th>Activity</th>\n",
              "    </tr>\n",
              "  </thead>\n",
              "  <tbody>\n",
              "    <tr>\n",
              "      <th>0</th>\n",
              "      <td>NaN</td>\n",
              "      <td>NaN</td>\n",
              "      <td>NaN</td>\n",
              "      <td>NaN</td>\n",
              "      <td>NaN</td>\n",
              "      <td>NaN</td>\n",
              "      <td>0.31</td>\n",
              "      <td>-0.09</td>\n",
              "      <td>-0.71</td>\n",
              "      <td>Out</td>\n",
              "    </tr>\n",
              "    <tr>\n",
              "      <th>1</th>\n",
              "      <td>NaN</td>\n",
              "      <td>NaN</td>\n",
              "      <td>NaN</td>\n",
              "      <td>NaN</td>\n",
              "      <td>NaN</td>\n",
              "      <td>NaN</td>\n",
              "      <td>0.11</td>\n",
              "      <td>0.02</td>\n",
              "      <td>-0.88</td>\n",
              "      <td>Out</td>\n",
              "    </tr>\n",
              "    <tr>\n",
              "      <th>2</th>\n",
              "      <td>NaN</td>\n",
              "      <td>NaN</td>\n",
              "      <td>NaN</td>\n",
              "      <td>NaN</td>\n",
              "      <td>NaN</td>\n",
              "      <td>NaN</td>\n",
              "      <td>0.78</td>\n",
              "      <td>-0.34</td>\n",
              "      <td>0.09</td>\n",
              "      <td>Out</td>\n",
              "    </tr>\n",
              "    <tr>\n",
              "      <th>3</th>\n",
              "      <td>NaN</td>\n",
              "      <td>NaN</td>\n",
              "      <td>NaN</td>\n",
              "      <td>NaN</td>\n",
              "      <td>NaN</td>\n",
              "      <td>NaN</td>\n",
              "      <td>1.01</td>\n",
              "      <td>-0.82</td>\n",
              "      <td>0.17</td>\n",
              "      <td>Out</td>\n",
              "    </tr>\n",
              "    <tr>\n",
              "      <th>4</th>\n",
              "      <td>NaN</td>\n",
              "      <td>NaN</td>\n",
              "      <td>NaN</td>\n",
              "      <td>NaN</td>\n",
              "      <td>70.0</td>\n",
              "      <td>10.0</td>\n",
              "      <td>0.83</td>\n",
              "      <td>-0.47</td>\n",
              "      <td>0.33</td>\n",
              "      <td>Out</td>\n",
              "    </tr>\n",
              "  </tbody>\n",
              "</table>\n",
              "</div>\n",
              "      <button class=\"colab-df-convert\" onclick=\"convertToInteractive('df-9dbd9206-fe6a-4d67-9635-4cfe30a734bf')\"\n",
              "              title=\"Convert this dataframe to an interactive table.\"\n",
              "              style=\"display:none;\">\n",
              "        \n",
              "  <svg xmlns=\"http://www.w3.org/2000/svg\" height=\"24px\"viewBox=\"0 0 24 24\"\n",
              "       width=\"24px\">\n",
              "    <path d=\"M0 0h24v24H0V0z\" fill=\"none\"/>\n",
              "    <path d=\"M18.56 5.44l.94 2.06.94-2.06 2.06-.94-2.06-.94-.94-2.06-.94 2.06-2.06.94zm-11 1L8.5 8.5l.94-2.06 2.06-.94-2.06-.94L8.5 2.5l-.94 2.06-2.06.94zm10 10l.94 2.06.94-2.06 2.06-.94-2.06-.94-.94-2.06-.94 2.06-2.06.94z\"/><path d=\"M17.41 7.96l-1.37-1.37c-.4-.4-.92-.59-1.43-.59-.52 0-1.04.2-1.43.59L10.3 9.45l-7.72 7.72c-.78.78-.78 2.05 0 2.83L4 21.41c.39.39.9.59 1.41.59.51 0 1.02-.2 1.41-.59l7.78-7.78 2.81-2.81c.8-.78.8-2.07 0-2.86zM5.41 20L4 18.59l7.72-7.72 1.47 1.35L5.41 20z\"/>\n",
              "  </svg>\n",
              "      </button>\n",
              "      \n",
              "  <style>\n",
              "    .colab-df-container {\n",
              "      display:flex;\n",
              "      flex-wrap:wrap;\n",
              "      gap: 12px;\n",
              "    }\n",
              "\n",
              "    .colab-df-convert {\n",
              "      background-color: #E8F0FE;\n",
              "      border: none;\n",
              "      border-radius: 50%;\n",
              "      cursor: pointer;\n",
              "      display: none;\n",
              "      fill: #1967D2;\n",
              "      height: 32px;\n",
              "      padding: 0 0 0 0;\n",
              "      width: 32px;\n",
              "    }\n",
              "\n",
              "    .colab-df-convert:hover {\n",
              "      background-color: #E2EBFA;\n",
              "      box-shadow: 0px 1px 2px rgba(60, 64, 67, 0.3), 0px 1px 3px 1px rgba(60, 64, 67, 0.15);\n",
              "      fill: #174EA6;\n",
              "    }\n",
              "\n",
              "    [theme=dark] .colab-df-convert {\n",
              "      background-color: #3B4455;\n",
              "      fill: #D2E3FC;\n",
              "    }\n",
              "\n",
              "    [theme=dark] .colab-df-convert:hover {\n",
              "      background-color: #434B5C;\n",
              "      box-shadow: 0px 1px 3px 1px rgba(0, 0, 0, 0.15);\n",
              "      filter: drop-shadow(0px 1px 2px rgba(0, 0, 0, 0.3));\n",
              "      fill: #FFFFFF;\n",
              "    }\n",
              "  </style>\n",
              "\n",
              "      <script>\n",
              "        const buttonEl =\n",
              "          document.querySelector('#df-9dbd9206-fe6a-4d67-9635-4cfe30a734bf button.colab-df-convert');\n",
              "        buttonEl.style.display =\n",
              "          google.colab.kernel.accessAllowed ? 'block' : 'none';\n",
              "\n",
              "        async function convertToInteractive(key) {\n",
              "          const element = document.querySelector('#df-9dbd9206-fe6a-4d67-9635-4cfe30a734bf');\n",
              "          const dataTable =\n",
              "            await google.colab.kernel.invokeFunction('convertToInteractive',\n",
              "                                                     [key], {});\n",
              "          if (!dataTable) return;\n",
              "\n",
              "          const docLinkHtml = 'Like what you see? Visit the ' +\n",
              "            '<a target=\"_blank\" href=https://colab.research.google.com/notebooks/data_table.ipynb>data table notebook</a>'\n",
              "            + ' to learn more about interactive tables.';\n",
              "          element.innerHTML = '';\n",
              "          dataTable['output_type'] = 'display_data';\n",
              "          await google.colab.output.renderOutput(dataTable, element);\n",
              "          const docLink = document.createElement('div');\n",
              "          docLink.innerHTML = docLinkHtml;\n",
              "          element.appendChild(docLink);\n",
              "        }\n",
              "      </script>\n",
              "    </div>\n",
              "  </div>\n",
              "  "
            ]
          },
          "metadata": {},
          "execution_count": 6
        }
      ]
    },
    {
      "cell_type": "code",
      "source": [
        "df['Activity'].isnull().value_counts()"
      ],
      "metadata": {
        "colab": {
          "base_uri": "https://localhost:8080/"
        },
        "id": "yofg_xYCr0Uz",
        "outputId": "81609883-a92e-4aae-f990-7563cc2353b4"
      },
      "execution_count": null,
      "outputs": [
        {
          "output_type": "execute_result",
          "data": {
            "text/plain": [
              "False    1285386\n",
              "True          35\n",
              "Name: Activity, dtype: int64"
            ]
          },
          "metadata": {},
          "execution_count": 7
        }
      ]
    },
    {
      "cell_type": "code",
      "source": [
        "df.dropna(subset=['Activity'],inplace=True)"
      ],
      "metadata": {
        "id": "zT8PJcPdsFDR"
      },
      "execution_count": null,
      "outputs": []
    },
    {
      "cell_type": "code",
      "source": [
        "df['Activity'].isnull().value_counts()"
      ],
      "metadata": {
        "colab": {
          "base_uri": "https://localhost:8080/"
        },
        "id": "A7Yh5AiCspNu",
        "outputId": "ed68560a-0d21-4fd8-fba5-f37e557dff2a"
      },
      "execution_count": null,
      "outputs": [
        {
          "output_type": "execute_result",
          "data": {
            "text/plain": [
              "False    1285386\n",
              "Name: Activity, dtype: int64"
            ]
          },
          "metadata": {},
          "execution_count": 9
        }
      ]
    },
    {
      "cell_type": "code",
      "source": [
        "pd.value_counts(df['Activity'])"
      ],
      "metadata": {
        "colab": {
          "base_uri": "https://localhost:8080/"
        },
        "id": "8UFfjnzmmftU",
        "outputId": "700e0dc0-751a-41e7-9b88-be8983ae80af"
      },
      "execution_count": null,
      "outputs": [
        {
          "output_type": "execute_result",
          "data": {
            "text/plain": [
              "Home     527297\n",
              "Sleep    469407\n",
              "Out      288682\n",
              "Name: Activity, dtype: int64"
            ]
          },
          "metadata": {},
          "execution_count": 10
        }
      ]
    },
    {
      "cell_type": "code",
      "source": [
        "df['Activity'] = pd.factorize(df['Activity'])[0]"
      ],
      "metadata": {
        "id": "bXLMmauhuWZQ"
      },
      "execution_count": null,
      "outputs": []
    },
    {
      "cell_type": "code",
      "source": [
        "pd.value_counts(df['Activity'])"
      ],
      "metadata": {
        "colab": {
          "base_uri": "https://localhost:8080/"
        },
        "id": "sCX58N7aOO0y",
        "outputId": "00982f7d-d7e8-46dc-bfdf-abea0c744e53"
      },
      "execution_count": null,
      "outputs": [
        {
          "output_type": "execute_result",
          "data": {
            "text/plain": [
              "1    527297\n",
              "2    469407\n",
              "0    288682\n",
              "Name: Activity, dtype: int64"
            ]
          },
          "metadata": {},
          "execution_count": 12
        }
      ]
    },
    {
      "cell_type": "code",
      "source": [
        "#downsampling\n",
        "idx = len(df) // 3600 * 3600\n",
        "downsample_df = df[:idx].groupby(df.index[:idx] // 3600).mean()\n",
        "#downsample_df.loc[:, 'Activity'] = df['Activity'].groupby(df.index[:idx] // 3600).mode()\n",
        "downsample_df['Activity'] = downsample_df['Activity'].round().astype(int)\n",
        "downsample_df.info()        # datatype\n",
        "downsample_df.describe()    # mean, std"
      ],
      "metadata": {
        "id": "8neGk2ShuGJN",
        "colab": {
          "base_uri": "https://localhost:8080/"
        },
        "outputId": "a36bc2d1-0065-4938-d438-57020d10588d"
      },
      "execution_count": null,
      "outputs": [
        {
          "output_type": "stream",
          "name": "stdout",
          "text": [
            "<class 'pandas.core.frame.DataFrame'>\n",
            "Int64Index: 358 entries, 0 to 357\n",
            "Data columns (total 10 columns):\n",
            " #   Column         Non-Null Count  Dtype  \n",
            "---  ------         --------------  -----  \n",
            " 0   Empatica_ACCX  345 non-null    float64\n",
            " 1   Empatica_ACCY  345 non-null    float64\n",
            " 2   Empatica_ACCZ  345 non-null    float64\n",
            " 3   Empatica_HR    345 non-null    float64\n",
            " 4   Hexoskin_HR    327 non-null    float64\n",
            " 5   Hexoskin_RR    327 non-null    float64\n",
            " 6   Hexoskin_ACCX  327 non-null    float64\n",
            " 7   Hexoskin_ACCY  327 non-null    float64\n",
            " 8   Hexoskin_ACCZ  327 non-null    float64\n",
            " 9   Activity       358 non-null    int64  \n",
            "dtypes: float64(9), int64(1)\n",
            "memory usage: 30.8 KB\n"
          ]
        },
        {
          "output_type": "execute_result",
          "data": {
            "text/plain": [
              "       Empatica_ACCX  Empatica_ACCY  Empatica_ACCZ  Empatica_HR  Hexoskin_HR  \\\n",
              "count     345.000000     345.000000     345.000000   345.000000   327.000000   \n",
              "mean        0.147630      -0.006250       0.327669    75.228340    76.755762   \n",
              "std         0.561520       0.301123       0.324861    13.731936    17.979876   \n",
              "min        -1.000139      -0.842639      -0.847553    50.039033    36.124444   \n",
              "25%        -0.395597      -0.222700       0.129419    61.096644    60.232778   \n",
              "50%         0.265092      -0.013136       0.352864    77.606044    76.173333   \n",
              "75%         0.660025       0.228528       0.558736    84.529733    87.449444   \n",
              "max         0.923383       0.813886       0.939997   120.624756   136.103333   \n",
              "\n",
              "       Hexoskin_RR  Hexoskin_ACCX  Hexoskin_ACCY  Hexoskin_ACCZ    Activity  \n",
              "count   327.000000     327.000000     327.000000     327.000000  358.000000  \n",
              "mean     16.053227       0.031390      -0.508203      -0.044859    1.134078  \n",
              "std       3.271730       0.465120       0.468547       0.393580    0.758822  \n",
              "min       7.261111      -1.008839      -1.012681      -0.882628    0.000000  \n",
              "25%      13.463889      -0.244798      -0.924878      -0.276781    1.000000  \n",
              "50%      15.143333      -0.008900      -0.672150      -0.082664    1.000000  \n",
              "75%      18.452778       0.339257      -0.153953       0.105551    2.000000  \n",
              "max      28.497778       0.970769       0.813403       1.007478    2.000000  "
            ],
            "text/html": [
              "\n",
              "  <div id=\"df-100bb802-8192-4e26-bd52-4edc51edea0f\">\n",
              "    <div class=\"colab-df-container\">\n",
              "      <div>\n",
              "<style scoped>\n",
              "    .dataframe tbody tr th:only-of-type {\n",
              "        vertical-align: middle;\n",
              "    }\n",
              "\n",
              "    .dataframe tbody tr th {\n",
              "        vertical-align: top;\n",
              "    }\n",
              "\n",
              "    .dataframe thead th {\n",
              "        text-align: right;\n",
              "    }\n",
              "</style>\n",
              "<table border=\"1\" class=\"dataframe\">\n",
              "  <thead>\n",
              "    <tr style=\"text-align: right;\">\n",
              "      <th></th>\n",
              "      <th>Empatica_ACCX</th>\n",
              "      <th>Empatica_ACCY</th>\n",
              "      <th>Empatica_ACCZ</th>\n",
              "      <th>Empatica_HR</th>\n",
              "      <th>Hexoskin_HR</th>\n",
              "      <th>Hexoskin_RR</th>\n",
              "      <th>Hexoskin_ACCX</th>\n",
              "      <th>Hexoskin_ACCY</th>\n",
              "      <th>Hexoskin_ACCZ</th>\n",
              "      <th>Activity</th>\n",
              "    </tr>\n",
              "  </thead>\n",
              "  <tbody>\n",
              "    <tr>\n",
              "      <th>count</th>\n",
              "      <td>345.000000</td>\n",
              "      <td>345.000000</td>\n",
              "      <td>345.000000</td>\n",
              "      <td>345.000000</td>\n",
              "      <td>327.000000</td>\n",
              "      <td>327.000000</td>\n",
              "      <td>327.000000</td>\n",
              "      <td>327.000000</td>\n",
              "      <td>327.000000</td>\n",
              "      <td>358.000000</td>\n",
              "    </tr>\n",
              "    <tr>\n",
              "      <th>mean</th>\n",
              "      <td>0.147630</td>\n",
              "      <td>-0.006250</td>\n",
              "      <td>0.327669</td>\n",
              "      <td>75.228340</td>\n",
              "      <td>76.755762</td>\n",
              "      <td>16.053227</td>\n",
              "      <td>0.031390</td>\n",
              "      <td>-0.508203</td>\n",
              "      <td>-0.044859</td>\n",
              "      <td>1.134078</td>\n",
              "    </tr>\n",
              "    <tr>\n",
              "      <th>std</th>\n",
              "      <td>0.561520</td>\n",
              "      <td>0.301123</td>\n",
              "      <td>0.324861</td>\n",
              "      <td>13.731936</td>\n",
              "      <td>17.979876</td>\n",
              "      <td>3.271730</td>\n",
              "      <td>0.465120</td>\n",
              "      <td>0.468547</td>\n",
              "      <td>0.393580</td>\n",
              "      <td>0.758822</td>\n",
              "    </tr>\n",
              "    <tr>\n",
              "      <th>min</th>\n",
              "      <td>-1.000139</td>\n",
              "      <td>-0.842639</td>\n",
              "      <td>-0.847553</td>\n",
              "      <td>50.039033</td>\n",
              "      <td>36.124444</td>\n",
              "      <td>7.261111</td>\n",
              "      <td>-1.008839</td>\n",
              "      <td>-1.012681</td>\n",
              "      <td>-0.882628</td>\n",
              "      <td>0.000000</td>\n",
              "    </tr>\n",
              "    <tr>\n",
              "      <th>25%</th>\n",
              "      <td>-0.395597</td>\n",
              "      <td>-0.222700</td>\n",
              "      <td>0.129419</td>\n",
              "      <td>61.096644</td>\n",
              "      <td>60.232778</td>\n",
              "      <td>13.463889</td>\n",
              "      <td>-0.244798</td>\n",
              "      <td>-0.924878</td>\n",
              "      <td>-0.276781</td>\n",
              "      <td>1.000000</td>\n",
              "    </tr>\n",
              "    <tr>\n",
              "      <th>50%</th>\n",
              "      <td>0.265092</td>\n",
              "      <td>-0.013136</td>\n",
              "      <td>0.352864</td>\n",
              "      <td>77.606044</td>\n",
              "      <td>76.173333</td>\n",
              "      <td>15.143333</td>\n",
              "      <td>-0.008900</td>\n",
              "      <td>-0.672150</td>\n",
              "      <td>-0.082664</td>\n",
              "      <td>1.000000</td>\n",
              "    </tr>\n",
              "    <tr>\n",
              "      <th>75%</th>\n",
              "      <td>0.660025</td>\n",
              "      <td>0.228528</td>\n",
              "      <td>0.558736</td>\n",
              "      <td>84.529733</td>\n",
              "      <td>87.449444</td>\n",
              "      <td>18.452778</td>\n",
              "      <td>0.339257</td>\n",
              "      <td>-0.153953</td>\n",
              "      <td>0.105551</td>\n",
              "      <td>2.000000</td>\n",
              "    </tr>\n",
              "    <tr>\n",
              "      <th>max</th>\n",
              "      <td>0.923383</td>\n",
              "      <td>0.813886</td>\n",
              "      <td>0.939997</td>\n",
              "      <td>120.624756</td>\n",
              "      <td>136.103333</td>\n",
              "      <td>28.497778</td>\n",
              "      <td>0.970769</td>\n",
              "      <td>0.813403</td>\n",
              "      <td>1.007478</td>\n",
              "      <td>2.000000</td>\n",
              "    </tr>\n",
              "  </tbody>\n",
              "</table>\n",
              "</div>\n",
              "      <button class=\"colab-df-convert\" onclick=\"convertToInteractive('df-100bb802-8192-4e26-bd52-4edc51edea0f')\"\n",
              "              title=\"Convert this dataframe to an interactive table.\"\n",
              "              style=\"display:none;\">\n",
              "        \n",
              "  <svg xmlns=\"http://www.w3.org/2000/svg\" height=\"24px\"viewBox=\"0 0 24 24\"\n",
              "       width=\"24px\">\n",
              "    <path d=\"M0 0h24v24H0V0z\" fill=\"none\"/>\n",
              "    <path d=\"M18.56 5.44l.94 2.06.94-2.06 2.06-.94-2.06-.94-.94-2.06-.94 2.06-2.06.94zm-11 1L8.5 8.5l.94-2.06 2.06-.94-2.06-.94L8.5 2.5l-.94 2.06-2.06.94zm10 10l.94 2.06.94-2.06 2.06-.94-2.06-.94-.94-2.06-.94 2.06-2.06.94z\"/><path d=\"M17.41 7.96l-1.37-1.37c-.4-.4-.92-.59-1.43-.59-.52 0-1.04.2-1.43.59L10.3 9.45l-7.72 7.72c-.78.78-.78 2.05 0 2.83L4 21.41c.39.39.9.59 1.41.59.51 0 1.02-.2 1.41-.59l7.78-7.78 2.81-2.81c.8-.78.8-2.07 0-2.86zM5.41 20L4 18.59l7.72-7.72 1.47 1.35L5.41 20z\"/>\n",
              "  </svg>\n",
              "      </button>\n",
              "      \n",
              "  <style>\n",
              "    .colab-df-container {\n",
              "      display:flex;\n",
              "      flex-wrap:wrap;\n",
              "      gap: 12px;\n",
              "    }\n",
              "\n",
              "    .colab-df-convert {\n",
              "      background-color: #E8F0FE;\n",
              "      border: none;\n",
              "      border-radius: 50%;\n",
              "      cursor: pointer;\n",
              "      display: none;\n",
              "      fill: #1967D2;\n",
              "      height: 32px;\n",
              "      padding: 0 0 0 0;\n",
              "      width: 32px;\n",
              "    }\n",
              "\n",
              "    .colab-df-convert:hover {\n",
              "      background-color: #E2EBFA;\n",
              "      box-shadow: 0px 1px 2px rgba(60, 64, 67, 0.3), 0px 1px 3px 1px rgba(60, 64, 67, 0.15);\n",
              "      fill: #174EA6;\n",
              "    }\n",
              "\n",
              "    [theme=dark] .colab-df-convert {\n",
              "      background-color: #3B4455;\n",
              "      fill: #D2E3FC;\n",
              "    }\n",
              "\n",
              "    [theme=dark] .colab-df-convert:hover {\n",
              "      background-color: #434B5C;\n",
              "      box-shadow: 0px 1px 3px 1px rgba(0, 0, 0, 0.15);\n",
              "      filter: drop-shadow(0px 1px 2px rgba(0, 0, 0, 0.3));\n",
              "      fill: #FFFFFF;\n",
              "    }\n",
              "  </style>\n",
              "\n",
              "      <script>\n",
              "        const buttonEl =\n",
              "          document.querySelector('#df-100bb802-8192-4e26-bd52-4edc51edea0f button.colab-df-convert');\n",
              "        buttonEl.style.display =\n",
              "          google.colab.kernel.accessAllowed ? 'block' : 'none';\n",
              "\n",
              "        async function convertToInteractive(key) {\n",
              "          const element = document.querySelector('#df-100bb802-8192-4e26-bd52-4edc51edea0f');\n",
              "          const dataTable =\n",
              "            await google.colab.kernel.invokeFunction('convertToInteractive',\n",
              "                                                     [key], {});\n",
              "          if (!dataTable) return;\n",
              "\n",
              "          const docLinkHtml = 'Like what you see? Visit the ' +\n",
              "            '<a target=\"_blank\" href=https://colab.research.google.com/notebooks/data_table.ipynb>data table notebook</a>'\n",
              "            + ' to learn more about interactive tables.';\n",
              "          element.innerHTML = '';\n",
              "          dataTable['output_type'] = 'display_data';\n",
              "          await google.colab.output.renderOutput(dataTable, element);\n",
              "          const docLink = document.createElement('div');\n",
              "          docLink.innerHTML = docLinkHtml;\n",
              "          element.appendChild(docLink);\n",
              "        }\n",
              "      </script>\n",
              "    </div>\n",
              "  </div>\n",
              "  "
            ]
          },
          "metadata": {},
          "execution_count": 13
        }
      ]
    },
    {
      "cell_type": "code",
      "source": [
        "downsample_df.head()"
      ],
      "metadata": {
        "colab": {
          "base_uri": "https://localhost:8080/"
        },
        "id": "-tk-aEY8uR_h",
        "outputId": "f0258446-807e-41df-ff99-43ca97c838f0"
      },
      "execution_count": null,
      "outputs": [
        {
          "output_type": "execute_result",
          "data": {
            "text/plain": [
              "   Empatica_ACCX  Empatica_ACCY  Empatica_ACCZ  Empatica_HR  Hexoskin_HR  \\\n",
              "0       0.795284       0.159251      -0.117983    96.270585    94.595106   \n",
              "1       0.915222       0.238342      -0.087453    84.465756    86.631111   \n",
              "2       0.613869      -0.500831       0.190033   101.095544   108.477778   \n",
              "3       0.550951      -0.098380      -0.342870   101.441057   118.619844   \n",
              "4       0.387303      -0.842639      -0.049214   108.357011   119.595556   \n",
              "\n",
              "   Hexoskin_RR  Hexoskin_ACCX  Hexoskin_ACCY  Hexoskin_ACCZ  Activity  \n",
              "0    21.598443       0.259794      -0.937000      -0.072819         0  \n",
              "1    20.985556       0.385361      -0.908225      -0.139608         0  \n",
              "2    21.255556       0.079933      -0.956011      -0.089336         0  \n",
              "3    18.054627      -0.103989      -0.989064      -0.053262         0  \n",
              "4    19.536667      -0.232897      -0.978850      -0.110114         0  "
            ],
            "text/html": [
              "\n",
              "  <div id=\"df-6076cb44-440a-4e5d-a6ec-fa7a30d0fffe\">\n",
              "    <div class=\"colab-df-container\">\n",
              "      <div>\n",
              "<style scoped>\n",
              "    .dataframe tbody tr th:only-of-type {\n",
              "        vertical-align: middle;\n",
              "    }\n",
              "\n",
              "    .dataframe tbody tr th {\n",
              "        vertical-align: top;\n",
              "    }\n",
              "\n",
              "    .dataframe thead th {\n",
              "        text-align: right;\n",
              "    }\n",
              "</style>\n",
              "<table border=\"1\" class=\"dataframe\">\n",
              "  <thead>\n",
              "    <tr style=\"text-align: right;\">\n",
              "      <th></th>\n",
              "      <th>Empatica_ACCX</th>\n",
              "      <th>Empatica_ACCY</th>\n",
              "      <th>Empatica_ACCZ</th>\n",
              "      <th>Empatica_HR</th>\n",
              "      <th>Hexoskin_HR</th>\n",
              "      <th>Hexoskin_RR</th>\n",
              "      <th>Hexoskin_ACCX</th>\n",
              "      <th>Hexoskin_ACCY</th>\n",
              "      <th>Hexoskin_ACCZ</th>\n",
              "      <th>Activity</th>\n",
              "    </tr>\n",
              "  </thead>\n",
              "  <tbody>\n",
              "    <tr>\n",
              "      <th>0</th>\n",
              "      <td>0.795284</td>\n",
              "      <td>0.159251</td>\n",
              "      <td>-0.117983</td>\n",
              "      <td>96.270585</td>\n",
              "      <td>94.595106</td>\n",
              "      <td>21.598443</td>\n",
              "      <td>0.259794</td>\n",
              "      <td>-0.937000</td>\n",
              "      <td>-0.072819</td>\n",
              "      <td>0</td>\n",
              "    </tr>\n",
              "    <tr>\n",
              "      <th>1</th>\n",
              "      <td>0.915222</td>\n",
              "      <td>0.238342</td>\n",
              "      <td>-0.087453</td>\n",
              "      <td>84.465756</td>\n",
              "      <td>86.631111</td>\n",
              "      <td>20.985556</td>\n",
              "      <td>0.385361</td>\n",
              "      <td>-0.908225</td>\n",
              "      <td>-0.139608</td>\n",
              "      <td>0</td>\n",
              "    </tr>\n",
              "    <tr>\n",
              "      <th>2</th>\n",
              "      <td>0.613869</td>\n",
              "      <td>-0.500831</td>\n",
              "      <td>0.190033</td>\n",
              "      <td>101.095544</td>\n",
              "      <td>108.477778</td>\n",
              "      <td>21.255556</td>\n",
              "      <td>0.079933</td>\n",
              "      <td>-0.956011</td>\n",
              "      <td>-0.089336</td>\n",
              "      <td>0</td>\n",
              "    </tr>\n",
              "    <tr>\n",
              "      <th>3</th>\n",
              "      <td>0.550951</td>\n",
              "      <td>-0.098380</td>\n",
              "      <td>-0.342870</td>\n",
              "      <td>101.441057</td>\n",
              "      <td>118.619844</td>\n",
              "      <td>18.054627</td>\n",
              "      <td>-0.103989</td>\n",
              "      <td>-0.989064</td>\n",
              "      <td>-0.053262</td>\n",
              "      <td>0</td>\n",
              "    </tr>\n",
              "    <tr>\n",
              "      <th>4</th>\n",
              "      <td>0.387303</td>\n",
              "      <td>-0.842639</td>\n",
              "      <td>-0.049214</td>\n",
              "      <td>108.357011</td>\n",
              "      <td>119.595556</td>\n",
              "      <td>19.536667</td>\n",
              "      <td>-0.232897</td>\n",
              "      <td>-0.978850</td>\n",
              "      <td>-0.110114</td>\n",
              "      <td>0</td>\n",
              "    </tr>\n",
              "  </tbody>\n",
              "</table>\n",
              "</div>\n",
              "      <button class=\"colab-df-convert\" onclick=\"convertToInteractive('df-6076cb44-440a-4e5d-a6ec-fa7a30d0fffe')\"\n",
              "              title=\"Convert this dataframe to an interactive table.\"\n",
              "              style=\"display:none;\">\n",
              "        \n",
              "  <svg xmlns=\"http://www.w3.org/2000/svg\" height=\"24px\"viewBox=\"0 0 24 24\"\n",
              "       width=\"24px\">\n",
              "    <path d=\"M0 0h24v24H0V0z\" fill=\"none\"/>\n",
              "    <path d=\"M18.56 5.44l.94 2.06.94-2.06 2.06-.94-2.06-.94-.94-2.06-.94 2.06-2.06.94zm-11 1L8.5 8.5l.94-2.06 2.06-.94-2.06-.94L8.5 2.5l-.94 2.06-2.06.94zm10 10l.94 2.06.94-2.06 2.06-.94-2.06-.94-.94-2.06-.94 2.06-2.06.94z\"/><path d=\"M17.41 7.96l-1.37-1.37c-.4-.4-.92-.59-1.43-.59-.52 0-1.04.2-1.43.59L10.3 9.45l-7.72 7.72c-.78.78-.78 2.05 0 2.83L4 21.41c.39.39.9.59 1.41.59.51 0 1.02-.2 1.41-.59l7.78-7.78 2.81-2.81c.8-.78.8-2.07 0-2.86zM5.41 20L4 18.59l7.72-7.72 1.47 1.35L5.41 20z\"/>\n",
              "  </svg>\n",
              "      </button>\n",
              "      \n",
              "  <style>\n",
              "    .colab-df-container {\n",
              "      display:flex;\n",
              "      flex-wrap:wrap;\n",
              "      gap: 12px;\n",
              "    }\n",
              "\n",
              "    .colab-df-convert {\n",
              "      background-color: #E8F0FE;\n",
              "      border: none;\n",
              "      border-radius: 50%;\n",
              "      cursor: pointer;\n",
              "      display: none;\n",
              "      fill: #1967D2;\n",
              "      height: 32px;\n",
              "      padding: 0 0 0 0;\n",
              "      width: 32px;\n",
              "    }\n",
              "\n",
              "    .colab-df-convert:hover {\n",
              "      background-color: #E2EBFA;\n",
              "      box-shadow: 0px 1px 2px rgba(60, 64, 67, 0.3), 0px 1px 3px 1px rgba(60, 64, 67, 0.15);\n",
              "      fill: #174EA6;\n",
              "    }\n",
              "\n",
              "    [theme=dark] .colab-df-convert {\n",
              "      background-color: #3B4455;\n",
              "      fill: #D2E3FC;\n",
              "    }\n",
              "\n",
              "    [theme=dark] .colab-df-convert:hover {\n",
              "      background-color: #434B5C;\n",
              "      box-shadow: 0px 1px 3px 1px rgba(0, 0, 0, 0.15);\n",
              "      filter: drop-shadow(0px 1px 2px rgba(0, 0, 0, 0.3));\n",
              "      fill: #FFFFFF;\n",
              "    }\n",
              "  </style>\n",
              "\n",
              "      <script>\n",
              "        const buttonEl =\n",
              "          document.querySelector('#df-6076cb44-440a-4e5d-a6ec-fa7a30d0fffe button.colab-df-convert');\n",
              "        buttonEl.style.display =\n",
              "          google.colab.kernel.accessAllowed ? 'block' : 'none';\n",
              "\n",
              "        async function convertToInteractive(key) {\n",
              "          const element = document.querySelector('#df-6076cb44-440a-4e5d-a6ec-fa7a30d0fffe');\n",
              "          const dataTable =\n",
              "            await google.colab.kernel.invokeFunction('convertToInteractive',\n",
              "                                                     [key], {});\n",
              "          if (!dataTable) return;\n",
              "\n",
              "          const docLinkHtml = 'Like what you see? Visit the ' +\n",
              "            '<a target=\"_blank\" href=https://colab.research.google.com/notebooks/data_table.ipynb>data table notebook</a>'\n",
              "            + ' to learn more about interactive tables.';\n",
              "          element.innerHTML = '';\n",
              "          dataTable['output_type'] = 'display_data';\n",
              "          await google.colab.output.renderOutput(dataTable, element);\n",
              "          const docLink = document.createElement('div');\n",
              "          docLink.innerHTML = docLinkHtml;\n",
              "          element.appendChild(docLink);\n",
              "        }\n",
              "      </script>\n",
              "    </div>\n",
              "  </div>\n",
              "  "
            ]
          },
          "metadata": {},
          "execution_count": 14
        }
      ]
    },
    {
      "cell_type": "code",
      "source": [
        "pd.value_counts(downsample_df['Activity'])"
      ],
      "metadata": {
        "colab": {
          "base_uri": "https://localhost:8080/"
        },
        "id": "Xel8D_Ckpkgf",
        "outputId": "d68a17de-f6e0-4843-9728-b712795eac43"
      },
      "execution_count": null,
      "outputs": [
        {
          "output_type": "execute_result",
          "data": {
            "text/plain": [
              "1    146\n",
              "2    130\n",
              "0     82\n",
              "Name: Activity, dtype: int64"
            ]
          },
          "metadata": {},
          "execution_count": 15
        }
      ]
    },
    {
      "cell_type": "code",
      "source": [
        "import seaborn as sns\n",
        "sns.countplot(x='Activity', data=downsample_df)"
      ],
      "metadata": {
        "colab": {
          "base_uri": "https://localhost:8080/"
        },
        "id": "26zeffDjtLRX",
        "outputId": "1bd05981-7e79-4320-9670-5bb91074000c"
      },
      "execution_count": null,
      "outputs": [
        {
          "output_type": "execute_result",
          "data": {
            "text/plain": [
              "<matplotlib.axes._subplots.AxesSubplot at 0x7fd1d3dad6d0>"
            ]
          },
          "metadata": {},
          "execution_count": 16
        },
        {
          "output_type": "display_data",
          "data": {
            "text/plain": [
              "<Figure size 432x288 with 1 Axes>"
            ],
            "image/png": "[encoded data removed]"
          },
          "metadata": {
            "needs_background": "light"
          }
        }
      ]
    },
    {
      "cell_type": "markdown",
      "source": [
        "# Peprocess"
      ],
      "metadata": {
        "id": "lG91kvZhsMu7"
      }
    },
    {
      "cell_type": "markdown",
      "source": [
        "## Highly Correlated Features"
      ],
      "metadata": {
        "id": "5mWhA8DVzts8"
      }
    },
    {
      "cell_type": "code",
      "source": [
        "#Visual\n",
        "correlation_matrix = downsample_df.iloc[:, 0:9].corr()\n",
        "sns.heatmap(correlation_matrix, annot=True)\n",
        "plt.show()"
      ],
      "metadata": {
        "colab": {
          "base_uri": "https://localhost:8080/"
        },
        "id": "1Y_9AnDvW6UD",
        "outputId": "09753256-4ce1-4beb-8c26-487ef05a3736"
      },
      "execution_count": null,
      "outputs": [
        {
          "output_type": "display_data",
          "data": {
            "text/plain": [
              "<Figure size 432x288 with 2 Axes>"
            ],
            "image/png": "[encoded data removed]"
          },
          "metadata": {
            "needs_background": "light"
          }
        }
      ]
    },
    {
      "cell_type": "code",
      "source": [
        "correlated_features = set()\n",
        "for i in range(len(correlation_matrix.columns)):\n",
        "    for j in range(i):\n",
        "        if abs(correlation_matrix.iloc[i, j]) > 0.85:\n",
        "            sum_i = 0\n",
        "            sum_j = 0\n",
        "            for k in range(len(correlation_matrix.columns)):\n",
        "                sum_i += abs(correlation_matrix.iloc[i, k])\n",
        "                sum_j += abs(correlation_matrix.iloc[j, k])\n",
        "            if sum_i > sum_j:  \n",
        "              correlated_features.add(correlation_matrix.columns[i])\n",
        "            else:  \n",
        "              correlated_features.add(correlation_matrix.columns[j])"
      ],
      "metadata": {
        "id": "PZ8J9RJ2xT6p"
      },
      "execution_count": null,
      "outputs": []
    },
    {
      "cell_type": "code",
      "source": [
        "print(correlated_features)"
      ],
      "metadata": {
        "colab": {
          "base_uri": "https://localhost:8080/"
        },
        "id": "BEiCEZFGyM6J",
        "outputId": "3ceda944-5121-4d83-fdf8-e87d40c57745"
      },
      "execution_count": null,
      "outputs": [
        {
          "output_type": "stream",
          "name": "stdout",
          "text": [
            "{'Hexoskin_HR'}\n"
          ]
        }
      ]
    },
    {
      "cell_type": "code",
      "source": [
        "#delete highly correlated features\n",
        "downsample_df.drop(labels=correlated_features, axis=1, inplace=True)\n",
        "downsample_df.head()"
      ],
      "metadata": {
        "colab": {
          "base_uri": "https://localhost:8080/"
        },
        "id": "rQuREDHXyyYK",
        "outputId": "3ebb3de6-c283-4c60-ce9f-5f2170943950"
      },
      "execution_count": null,
      "outputs": [
        {
          "output_type": "execute_result",
          "data": {
            "text/plain": [
              "   Empatica_ACCX  Empatica_ACCY  Empatica_ACCZ  Empatica_HR  Hexoskin_RR  \\\n",
              "0       0.795284       0.159251      -0.117983    96.270585    21.598443   \n",
              "1       0.915222       0.238342      -0.087453    84.465756    20.985556   \n",
              "2       0.613869      -0.500831       0.190033   101.095544    21.255556   \n",
              "3       0.550951      -0.098380      -0.342870   101.441057    18.054627   \n",
              "4       0.387303      -0.842639      -0.049214   108.357011    19.536667   \n",
              "\n",
              "   Hexoskin_ACCX  Hexoskin_ACCY  Hexoskin_ACCZ  Activity  \n",
              "0       0.259794      -0.937000      -0.072819         0  \n",
              "1       0.385361      -0.908225      -0.139608         0  \n",
              "2       0.079933      -0.956011      -0.089336         0  \n",
              "3      -0.103989      -0.989064      -0.053262         0  \n",
              "4      -0.232897      -0.978850      -0.110114         0  "
            ],
            "text/html": [
              "\n",
              "  <div id=\"df-9a7a253f-22e3-493b-940e-5df6e7a9b092\">\n",
              "    <div class=\"colab-df-container\">\n",
              "      <div>\n",
              "<style scoped>\n",
              "    .dataframe tbody tr th:only-of-type {\n",
              "        vertical-align: middle;\n",
              "    }\n",
              "\n",
              "    .dataframe tbody tr th {\n",
              "        vertical-align: top;\n",
              "    }\n",
              "\n",
              "    .dataframe thead th {\n",
              "        text-align: right;\n",
              "    }\n",
              "</style>\n",
              "<table border=\"1\" class=\"dataframe\">\n",
              "  <thead>\n",
              "    <tr style=\"text-align: right;\">\n",
              "      <th></th>\n",
              "      <th>Empatica_ACCX</th>\n",
              "      <th>Empatica_ACCY</th>\n",
              "      <th>Empatica_ACCZ</th>\n",
              "      <th>Empatica_HR</th>\n",
              "      <th>Hexoskin_RR</th>\n",
              "      <th>Hexoskin_ACCX</th>\n",
              "      <th>Hexoskin_ACCY</th>\n",
              "      <th>Hexoskin_ACCZ</th>\n",
              "      <th>Activity</th>\n",
              "    </tr>\n",
              "  </thead>\n",
              "  <tbody>\n",
              "    <tr>\n",
              "      <th>0</th>\n",
              "      <td>0.795284</td>\n",
              "      <td>0.159251</td>\n",
              "      <td>-0.117983</td>\n",
              "      <td>96.270585</td>\n",
              "      <td>21.598443</td>\n",
              "      <td>0.259794</td>\n",
              "      <td>-0.937000</td>\n",
              "      <td>-0.072819</td>\n",
              "      <td>0</td>\n",
              "    </tr>\n",
              "    <tr>\n",
              "      <th>1</th>\n",
              "      <td>0.915222</td>\n",
              "      <td>0.238342</td>\n",
              "      <td>-0.087453</td>\n",
              "      <td>84.465756</td>\n",
              "      <td>20.985556</td>\n",
              "      <td>0.385361</td>\n",
              "      <td>-0.908225</td>\n",
              "      <td>-0.139608</td>\n",
              "      <td>0</td>\n",
              "    </tr>\n",
              "    <tr>\n",
              "      <th>2</th>\n",
              "      <td>0.613869</td>\n",
              "      <td>-0.500831</td>\n",
              "      <td>0.190033</td>\n",
              "      <td>101.095544</td>\n",
              "      <td>21.255556</td>\n",
              "      <td>0.079933</td>\n",
              "      <td>-0.956011</td>\n",
              "      <td>-0.089336</td>\n",
              "      <td>0</td>\n",
              "    </tr>\n",
              "    <tr>\n",
              "      <th>3</th>\n",
              "      <td>0.550951</td>\n",
              "      <td>-0.098380</td>\n",
              "      <td>-0.342870</td>\n",
              "      <td>101.441057</td>\n",
              "      <td>18.054627</td>\n",
              "      <td>-0.103989</td>\n",
              "      <td>-0.989064</td>\n",
              "      <td>-0.053262</td>\n",
              "      <td>0</td>\n",
              "    </tr>\n",
              "    <tr>\n",
              "      <th>4</th>\n",
              "      <td>0.387303</td>\n",
              "      <td>-0.842639</td>\n",
              "      <td>-0.049214</td>\n",
              "      <td>108.357011</td>\n",
              "      <td>19.536667</td>\n",
              "      <td>-0.232897</td>\n",
              "      <td>-0.978850</td>\n",
              "      <td>-0.110114</td>\n",
              "      <td>0</td>\n",
              "    </tr>\n",
              "  </tbody>\n",
              "</table>\n",
              "</div>\n",
              "      <button class=\"colab-df-convert\" onclick=\"convertToInteractive('df-9a7a253f-22e3-493b-940e-5df6e7a9b092')\"\n",
              "              title=\"Convert this dataframe to an interactive table.\"\n",
              "              style=\"display:none;\">\n",
              "        \n",
              "  <svg xmlns=\"http://www.w3.org/2000/svg\" height=\"24px\"viewBox=\"0 0 24 24\"\n",
              "       width=\"24px\">\n",
              "    <path d=\"M0 0h24v24H0V0z\" fill=\"none\"/>\n",
              "    <path d=\"M18.56 5.44l.94 2.06.94-2.06 2.06-.94-2.06-.94-.94-2.06-.94 2.06-2.06.94zm-11 1L8.5 8.5l.94-2.06 2.06-.94-2.06-.94L8.5 2.5l-.94 2.06-2.06.94zm10 10l.94 2.06.94-2.06 2.06-.94-2.06-.94-.94-2.06-.94 2.06-2.06.94z\"/><path d=\"M17.41 7.96l-1.37-1.37c-.4-.4-.92-.59-1.43-.59-.52 0-1.04.2-1.43.59L10.3 9.45l-7.72 7.72c-.78.78-.78 2.05 0 2.83L4 21.41c.39.39.9.59 1.41.59.51 0 1.02-.2 1.41-.59l7.78-7.78 2.81-2.81c.8-.78.8-2.07 0-2.86zM5.41 20L4 18.59l7.72-7.72 1.47 1.35L5.41 20z\"/>\n",
              "  </svg>\n",
              "      </button>\n",
              "      \n",
              "  <style>\n",
              "    .colab-df-container {\n",
              "      display:flex;\n",
              "      flex-wrap:wrap;\n",
              "      gap: 12px;\n",
              "    }\n",
              "\n",
              "    .colab-df-convert {\n",
              "      background-color: #E8F0FE;\n",
              "      border: none;\n",
              "      border-radius: 50%;\n",
              "      cursor: pointer;\n",
              "      display: none;\n",
              "      fill: #1967D2;\n",
              "      height: 32px;\n",
              "      padding: 0 0 0 0;\n",
              "      width: 32px;\n",
              "    }\n",
              "\n",
              "    .colab-df-convert:hover {\n",
              "      background-color: #E2EBFA;\n",
              "      box-shadow: 0px 1px 2px rgba(60, 64, 67, 0.3), 0px 1px 3px 1px rgba(60, 64, 67, 0.15);\n",
              "      fill: #174EA6;\n",
              "    }\n",
              "\n",
              "    [theme=dark] .colab-df-convert {\n",
              "      background-color: #3B4455;\n",
              "      fill: #D2E3FC;\n",
              "    }\n",
              "\n",
              "    [theme=dark] .colab-df-convert:hover {\n",
              "      background-color: #434B5C;\n",
              "      box-shadow: 0px 1px 3px 1px rgba(0, 0, 0, 0.15);\n",
              "      filter: drop-shadow(0px 1px 2px rgba(0, 0, 0, 0.3));\n",
              "      fill: #FFFFFF;\n",
              "    }\n",
              "  </style>\n",
              "\n",
              "      <script>\n",
              "        const buttonEl =\n",
              "          document.querySelector('#df-9a7a253f-22e3-493b-940e-5df6e7a9b092 button.colab-df-convert');\n",
              "        buttonEl.style.display =\n",
              "          google.colab.kernel.accessAllowed ? 'block' : 'none';\n",
              "\n",
              "        async function convertToInteractive(key) {\n",
              "          const element = document.querySelector('#df-9a7a253f-22e3-493b-940e-5df6e7a9b092');\n",
              "          const dataTable =\n",
              "            await google.colab.kernel.invokeFunction('convertToInteractive',\n",
              "                                                     [key], {});\n",
              "          if (!dataTable) return;\n",
              "\n",
              "          const docLinkHtml = 'Like what you see? Visit the ' +\n",
              "            '<a target=\"_blank\" href=https://colab.research.google.com/notebooks/data_table.ipynb>data table notebook</a>'\n",
              "            + ' to learn more about interactive tables.';\n",
              "          element.innerHTML = '';\n",
              "          dataTable['output_type'] = 'display_data';\n",
              "          await google.colab.output.renderOutput(dataTable, element);\n",
              "          const docLink = document.createElement('div');\n",
              "          docLink.innerHTML = docLinkHtml;\n",
              "          element.appendChild(docLink);\n",
              "        }\n",
              "      </script>\n",
              "    </div>\n",
              "  </div>\n",
              "  "
            ]
          },
          "metadata": {},
          "execution_count": 20
        }
      ]
    },
    {
      "cell_type": "code",
      "source": [
        "#check correlations\n",
        "correlation_matrix = downsample_df.iloc[:, 0:8].corr()\n",
        "sns.heatmap(correlation_matrix, annot=True)\n",
        "plt.show()"
      ],
      "metadata": {
        "colab": {
          "base_uri": "https://localhost:8080/"
        },
        "id": "TArwBKAiXkh1",
        "outputId": "bf2730e1-d539-4649-f5cc-2f1ecaf73880"
      },
      "execution_count": null,
      "outputs": [
        {
          "output_type": "display_data",
          "data": {
            "text/plain": [
              "<Figure size 432x288 with 2 Axes>"
            ],
            "image/png": "[encoded data removed]"
          },
          "metadata": {
            "needs_background": "light"
          }
        }
      ]
    },
    {
      "cell_type": "markdown",
      "source": [
        "## Outlier Removal"
      ],
      "metadata": {
        "id": "lQ6gibmJ0GGN"
      }
    },
    {
      "cell_type": "code",
      "source": [
        "downsample_df.boxplot()"
      ],
      "metadata": {
        "colab": {
          "base_uri": "https://localhost:8080/"
        },
        "id": "N51mIHp0kDR1",
        "outputId": "5cbfa7ec-e033-43c8-b29e-dc090bee48ca"
      },
      "execution_count": null,
      "outputs": [
        {
          "output_type": "stream",
          "name": "stderr",
          "text": [
            "/usr/local/lib/python3.7/dist-packages/matplotlib/cbook/__init__.py:1376: VisibleDeprecationWarning: Creating an ndarray from ragged nested sequences (which is a list-or-tuple of lists-or-tuples-or ndarrays with different lengths or shapes) is deprecated. If you meant to do this, you must specify 'dtype=object' when creating the ndarray.\n",
            "  X = np.atleast_1d(X.T if isinstance(X, np.ndarray) else np.asarray(X))\n"
          ]
        },
        {
          "output_type": "execute_result",
          "data": {
            "text/plain": [
              "<matplotlib.axes._subplots.AxesSubplot at 0x7fd1d0d2a950>"
            ]
          },
          "metadata": {},
          "execution_count": 22
        },
        {
          "output_type": "display_data",
          "data": {
            "text/plain": [
              "<Figure size 432x288 with 1 Axes>"
            ],
            "image/png": "[encoded data removed]"
          },
          "metadata": {
            "needs_background": "light"
          }
        }
      ]
    },
    {
      "cell_type": "code",
      "source": [
        "for i in downsample_df:\n",
        "  if i == 'Activity':\n",
        "    continue\n",
        "  Q1 = downsample_df[i].quantile(0.25)\n",
        "  Q3 = downsample_df[i].quantile(0.75)\n",
        "  IQR = Q3 - Q1 \n",
        "  max = Q3+(1.5*IQR)\n",
        "  min = Q1-(1.5*IQR)\n",
        "  for j in downsample_df.index:\n",
        "    if downsample_df.loc[j,i] < min:\n",
        "      downsample_df.loc[j,i] = np.nan\n",
        "    if downsample_df.loc[j,i] > max:\n",
        "      downsample_df.loc[j,i] = np.nan"
      ],
      "metadata": {
        "id": "-NC0og1Ol7VN"
      },
      "execution_count": null,
      "outputs": []
    },
    {
      "cell_type": "code",
      "source": [
        "downsample_df.isnull().sum()"
      ],
      "metadata": {
        "colab": {
          "base_uri": "https://localhost:8080/"
        },
        "id": "E1qHa84lqSHG",
        "outputId": "4dc9abca-295c-4cea-d2a3-bf5bfb212e59"
      },
      "execution_count": null,
      "outputs": [
        {
          "output_type": "execute_result",
          "data": {
            "text/plain": [
              "Empatica_ACCX    13\n",
              "Empatica_ACCY    13\n",
              "Empatica_ACCZ    20\n",
              "Empatica_HR      15\n",
              "Hexoskin_RR      36\n",
              "Hexoskin_ACCX    31\n",
              "Hexoskin_ACCY    31\n",
              "Hexoskin_ACCZ    53\n",
              "Activity          0\n",
              "dtype: int64"
            ]
          },
          "metadata": {},
          "execution_count": 24
        }
      ]
    },
    {
      "cell_type": "markdown",
      "source": [
        "## Missing data"
      ],
      "metadata": {
        "id": "37E7tteXfrNE"
      }
    },
    {
      "cell_type": "code",
      "source": [
        "#delete NA value\n",
        "downsample_df.dropna(axis=0, how='any', inplace=True)"
      ],
      "metadata": {
        "id": "WooR5ZoBqlW3"
      },
      "execution_count": null,
      "outputs": []
    },
    {
      "cell_type": "code",
      "source": [
        "downsample_df.isnull().sum()"
      ],
      "metadata": {
        "colab": {
          "base_uri": "https://localhost:8080/"
        },
        "id": "X-YPm2S4wBOW",
        "outputId": "a7b1c527-3af1-4c10-d6c7-04b9b02b46fb"
      },
      "execution_count": null,
      "outputs": [
        {
          "output_type": "execute_result",
          "data": {
            "text/plain": [
              "Empatica_ACCX    0\n",
              "Empatica_ACCY    0\n",
              "Empatica_ACCZ    0\n",
              "Empatica_HR      0\n",
              "Hexoskin_RR      0\n",
              "Hexoskin_ACCX    0\n",
              "Hexoskin_ACCY    0\n",
              "Hexoskin_ACCZ    0\n",
              "Activity         0\n",
              "dtype: int64"
            ]
          },
          "metadata": {},
          "execution_count": 26
        }
      ]
    },
    {
      "cell_type": "code",
      "source": [
        "downsample_df.info()        # datatype\n",
        "downsample_df.describe()    # mean, std"
      ],
      "metadata": {
        "colab": {
          "base_uri": "https://localhost:8080/"
        },
        "id": "6IKuUWsQwG49",
        "outputId": "ebccbada-6333-4eca-e929-86b332fb47f2"
      },
      "execution_count": null,
      "outputs": [
        {
          "output_type": "stream",
          "name": "stdout",
          "text": [
            "<class 'pandas.core.frame.DataFrame'>\n",
            "Int64Index: 282 entries, 0 to 357\n",
            "Data columns (total 9 columns):\n",
            " #   Column         Non-Null Count  Dtype  \n",
            "---  ------         --------------  -----  \n",
            " 0   Empatica_ACCX  282 non-null    float64\n",
            " 1   Empatica_ACCY  282 non-null    float64\n",
            " 2   Empatica_ACCZ  282 non-null    float64\n",
            " 3   Empatica_HR    282 non-null    float64\n",
            " 4   Hexoskin_RR    282 non-null    float64\n",
            " 5   Hexoskin_ACCX  282 non-null    float64\n",
            " 6   Hexoskin_ACCY  282 non-null    float64\n",
            " 7   Hexoskin_ACCZ  282 non-null    float64\n",
            " 8   Activity       282 non-null    int64  \n",
            "dtypes: float64(8), int64(1)\n",
            "memory usage: 22.0 KB\n"
          ]
        },
        {
          "output_type": "execute_result",
          "data": {
            "text/plain": [
              "       Empatica_ACCX  Empatica_ACCY  Empatica_ACCZ  Empatica_HR  Hexoskin_RR  \\\n",
              "count     282.000000     282.000000     282.000000   282.000000   282.000000   \n",
              "mean        0.107930      -0.030799       0.334997    75.827229    16.050993   \n",
              "std         0.575326       0.298674       0.287437    13.357783     2.981284   \n",
              "min        -0.927153      -0.842639      -0.390811    50.270944     7.261111   \n",
              "25%        -0.492124      -0.238963       0.136870    62.379592    13.586389   \n",
              "50%         0.193989      -0.036942       0.325749    77.610206    15.715556   \n",
              "75%         0.657863       0.183577       0.534010    85.024097    18.464722   \n",
              "max         0.923383       0.813886       0.939997   115.697544    24.921875   \n",
              "\n",
              "       Hexoskin_ACCX  Hexoskin_ACCY  Hexoskin_ACCZ    Activity  \n",
              "count     282.000000     282.000000     282.000000  282.000000  \n",
              "mean        0.013593      -0.549568      -0.097545    1.187943  \n",
              "std         0.477581       0.458889       0.322750    0.682884  \n",
              "min        -1.008839      -1.010647      -0.831575    0.000000  \n",
              "25%        -0.267157      -0.928469      -0.281387    1.000000  \n",
              "50%        -0.008278      -0.805358      -0.091117    1.000000  \n",
              "75%         0.309580      -0.192033       0.049817    2.000000  \n",
              "max         0.970769       0.813403       0.665086    2.000000  "
            ],
            "text/html": [
              "\n",
              "  <div id=\"df-3ee18ea3-4bae-47b7-8b7a-5157d7e54f7f\">\n",
              "    <div class=\"colab-df-container\">\n",
              "      <div>\n",
              "<style scoped>\n",
              "    .dataframe tbody tr th:only-of-type {\n",
              "        vertical-align: middle;\n",
              "    }\n",
              "\n",
              "    .dataframe tbody tr th {\n",
              "        vertical-align: top;\n",
              "    }\n",
              "\n",
              "    .dataframe thead th {\n",
              "        text-align: right;\n",
              "    }\n",
              "</style>\n",
              "<table border=\"1\" class=\"dataframe\">\n",
              "  <thead>\n",
              "    <tr style=\"text-align: right;\">\n",
              "      <th></th>\n",
              "      <th>Empatica_ACCX</th>\n",
              "      <th>Empatica_ACCY</th>\n",
              "      <th>Empatica_ACCZ</th>\n",
              "      <th>Empatica_HR</th>\n",
              "      <th>Hexoskin_RR</th>\n",
              "      <th>Hexoskin_ACCX</th>\n",
              "      <th>Hexoskin_ACCY</th>\n",
              "      <th>Hexoskin_ACCZ</th>\n",
              "      <th>Activity</th>\n",
              "    </tr>\n",
              "  </thead>\n",
              "  <tbody>\n",
              "    <tr>\n",
              "      <th>count</th>\n",
              "      <td>282.000000</td>\n",
              "      <td>282.000000</td>\n",
              "      <td>282.000000</td>\n",
              "      <td>282.000000</td>\n",
              "      <td>282.000000</td>\n",
              "      <td>282.000000</td>\n",
              "      <td>282.000000</td>\n",
              "      <td>282.000000</td>\n",
              "      <td>282.000000</td>\n",
              "    </tr>\n",
              "    <tr>\n",
              "      <th>mean</th>\n",
              "      <td>0.107930</td>\n",
              "      <td>-0.030799</td>\n",
              "      <td>0.334997</td>\n",
              "      <td>75.827229</td>\n",
              "      <td>16.050993</td>\n",
              "      <td>0.013593</td>\n",
              "      <td>-0.549568</td>\n",
              "      <td>-0.097545</td>\n",
              "      <td>1.187943</td>\n",
              "    </tr>\n",
              "    <tr>\n",
              "      <th>std</th>\n",
              "      <td>0.575326</td>\n",
              "      <td>0.298674</td>\n",
              "      <td>0.287437</td>\n",
              "      <td>13.357783</td>\n",
              "      <td>2.981284</td>\n",
              "      <td>0.477581</td>\n",
              "      <td>0.458889</td>\n",
              "      <td>0.322750</td>\n",
              "      <td>0.682884</td>\n",
              "    </tr>\n",
              "    <tr>\n",
              "      <th>min</th>\n",
              "      <td>-0.927153</td>\n",
              "      <td>-0.842639</td>\n",
              "      <td>-0.390811</td>\n",
              "      <td>50.270944</td>\n",
              "      <td>7.261111</td>\n",
              "      <td>-1.008839</td>\n",
              "      <td>-1.010647</td>\n",
              "      <td>-0.831575</td>\n",
              "      <td>0.000000</td>\n",
              "    </tr>\n",
              "    <tr>\n",
              "      <th>25%</th>\n",
              "      <td>-0.492124</td>\n",
              "      <td>-0.238963</td>\n",
              "      <td>0.136870</td>\n",
              "      <td>62.379592</td>\n",
              "      <td>13.586389</td>\n",
              "      <td>-0.267157</td>\n",
              "      <td>-0.928469</td>\n",
              "      <td>-0.281387</td>\n",
              "      <td>1.000000</td>\n",
              "    </tr>\n",
              "    <tr>\n",
              "      <th>50%</th>\n",
              "      <td>0.193989</td>\n",
              "      <td>-0.036942</td>\n",
              "      <td>0.325749</td>\n",
              "      <td>77.610206</td>\n",
              "      <td>15.715556</td>\n",
              "      <td>-0.008278</td>\n",
              "      <td>-0.805358</td>\n",
              "      <td>-0.091117</td>\n",
              "      <td>1.000000</td>\n",
              "    </tr>\n",
              "    <tr>\n",
              "      <th>75%</th>\n",
              "      <td>0.657863</td>\n",
              "      <td>0.183577</td>\n",
              "      <td>0.534010</td>\n",
              "      <td>85.024097</td>\n",
              "      <td>18.464722</td>\n",
              "      <td>0.309580</td>\n",
              "      <td>-0.192033</td>\n",
              "      <td>0.049817</td>\n",
              "      <td>2.000000</td>\n",
              "    </tr>\n",
              "    <tr>\n",
              "      <th>max</th>\n",
              "      <td>0.923383</td>\n",
              "      <td>0.813886</td>\n",
              "      <td>0.939997</td>\n",
              "      <td>115.697544</td>\n",
              "      <td>24.921875</td>\n",
              "      <td>0.970769</td>\n",
              "      <td>0.813403</td>\n",
              "      <td>0.665086</td>\n",
              "      <td>2.000000</td>\n",
              "    </tr>\n",
              "  </tbody>\n",
              "</table>\n",
              "</div>\n",
              "      <button class=\"colab-df-convert\" onclick=\"convertToInteractive('df-3ee18ea3-4bae-47b7-8b7a-5157d7e54f7f')\"\n",
              "              title=\"Convert this dataframe to an interactive table.\"\n",
              "              style=\"display:none;\">\n",
              "        \n",
              "  <svg xmlns=\"http://www.w3.org/2000/svg\" height=\"24px\"viewBox=\"0 0 24 24\"\n",
              "       width=\"24px\">\n",
              "    <path d=\"M0 0h24v24H0V0z\" fill=\"none\"/>\n",
              "    <path d=\"M18.56 5.44l.94 2.06.94-2.06 2.06-.94-2.06-.94-.94-2.06-.94 2.06-2.06.94zm-11 1L8.5 8.5l.94-2.06 2.06-.94-2.06-.94L8.5 2.5l-.94 2.06-2.06.94zm10 10l.94 2.06.94-2.06 2.06-.94-2.06-.94-.94-2.06-.94 2.06-2.06.94z\"/><path d=\"M17.41 7.96l-1.37-1.37c-.4-.4-.92-.59-1.43-.59-.52 0-1.04.2-1.43.59L10.3 9.45l-7.72 7.72c-.78.78-.78 2.05 0 2.83L4 21.41c.39.39.9.59 1.41.59.51 0 1.02-.2 1.41-.59l7.78-7.78 2.81-2.81c.8-.78.8-2.07 0-2.86zM5.41 20L4 18.59l7.72-7.72 1.47 1.35L5.41 20z\"/>\n",
              "  </svg>\n",
              "      </button>\n",
              "      \n",
              "  <style>\n",
              "    .colab-df-container {\n",
              "      display:flex;\n",
              "      flex-wrap:wrap;\n",
              "      gap: 12px;\n",
              "    }\n",
              "\n",
              "    .colab-df-convert {\n",
              "      background-color: #E8F0FE;\n",
              "      border: none;\n",
              "      border-radius: 50%;\n",
              "      cursor: pointer;\n",
              "      display: none;\n",
              "      fill: #1967D2;\n",
              "      height: 32px;\n",
              "      padding: 0 0 0 0;\n",
              "      width: 32px;\n",
              "    }\n",
              "\n",
              "    .colab-df-convert:hover {\n",
              "      background-color: #E2EBFA;\n",
              "      box-shadow: 0px 1px 2px rgba(60, 64, 67, 0.3), 0px 1px 3px 1px rgba(60, 64, 67, 0.15);\n",
              "      fill: #174EA6;\n",
              "    }\n",
              "\n",
              "    [theme=dark] .colab-df-convert {\n",
              "      background-color: #3B4455;\n",
              "      fill: #D2E3FC;\n",
              "    }\n",
              "\n",
              "    [theme=dark] .colab-df-convert:hover {\n",
              "      background-color: #434B5C;\n",
              "      box-shadow: 0px 1px 3px 1px rgba(0, 0, 0, 0.15);\n",
              "      filter: drop-shadow(0px 1px 2px rgba(0, 0, 0, 0.3));\n",
              "      fill: #FFFFFF;\n",
              "    }\n",
              "  </style>\n",
              "\n",
              "      <script>\n",
              "        const buttonEl =\n",
              "          document.querySelector('#df-3ee18ea3-4bae-47b7-8b7a-5157d7e54f7f button.colab-df-convert');\n",
              "        buttonEl.style.display =\n",
              "          google.colab.kernel.accessAllowed ? 'block' : 'none';\n",
              "\n",
              "        async function convertToInteractive(key) {\n",
              "          const element = document.querySelector('#df-3ee18ea3-4bae-47b7-8b7a-5157d7e54f7f');\n",
              "          const dataTable =\n",
              "            await google.colab.kernel.invokeFunction('convertToInteractive',\n",
              "                                                     [key], {});\n",
              "          if (!dataTable) return;\n",
              "\n",
              "          const docLinkHtml = 'Like what you see? Visit the ' +\n",
              "            '<a target=\"_blank\" href=https://colab.research.google.com/notebooks/data_table.ipynb>data table notebook</a>'\n",
              "            + ' to learn more about interactive tables.';\n",
              "          element.innerHTML = '';\n",
              "          dataTable['output_type'] = 'display_data';\n",
              "          await google.colab.output.renderOutput(dataTable, element);\n",
              "          const docLink = document.createElement('div');\n",
              "          docLink.innerHTML = docLinkHtml;\n",
              "          element.appendChild(docLink);\n",
              "        }\n",
              "      </script>\n",
              "    </div>\n",
              "  </div>\n",
              "  "
            ]
          },
          "metadata": {},
          "execution_count": 27
        }
      ]
    },
    {
      "cell_type": "code",
      "source": [
        "pd.value_counts(downsample_df['Activity'])"
      ],
      "metadata": {
        "colab": {
          "base_uri": "https://localhost:8080/"
        },
        "id": "W04gtuLo2DLI",
        "outputId": "e04486f9-1e21-4ec0-d1e0-40125f6b80e2"
      },
      "execution_count": null,
      "outputs": [
        {
          "output_type": "execute_result",
          "data": {
            "text/plain": [
              "1    141\n",
              "2     97\n",
              "0     44\n",
              "Name: Activity, dtype: int64"
            ]
          },
          "metadata": {},
          "execution_count": 28
        }
      ]
    },
    {
      "cell_type": "markdown",
      "source": [
        "## Normalization"
      ],
      "metadata": {
        "id": "Qi_MdRMezw3k"
      }
    },
    {
      "cell_type": "code",
      "source": [
        "#Another way\n",
        "from sklearn.model_selection import train_test_split\n",
        "y = downsample_df['Activity']\n",
        "X = downsample_df.drop(columns=['Activity'], axis=1)\n",
        "X_train, X_test, y_train, y_test = train_test_split(X, y, test_size = 0.2, random_state = 42, stratify=y)"
      ],
      "metadata": {
        "id": "M9JXEWm96ECT"
      },
      "execution_count": null,
      "outputs": []
    },
    {
      "cell_type": "code",
      "source": [
        "X_train.head()"
      ],
      "metadata": {
        "colab": {
          "base_uri": "https://localhost:8080/"
        },
        "id": "xdJZWrg8tN9w",
        "outputId": "10e3c260-b59b-4939-82c1-0543d68dd471"
      },
      "execution_count": null,
      "outputs": [
        {
          "output_type": "execute_result",
          "data": {
            "text/plain": [
              "     Empatica_ACCX  Empatica_ACCY  Empatica_ACCZ  Empatica_HR  Hexoskin_RR  \\\n",
              "239      -0.019789       0.435036       0.675969    58.760400    13.345556   \n",
              "191       0.575367       0.105958      -0.240519    77.505789    12.907778   \n",
              "4         0.387303      -0.842639      -0.049214   108.357011    19.536667   \n",
              "259       0.587350      -0.363072      -0.131739    78.704467    17.235556   \n",
              "222      -0.416131      -0.595486       0.500642    70.113889    15.316667   \n",
              "\n",
              "     Hexoskin_ACCX  Hexoskin_ACCY  Hexoskin_ACCZ  \n",
              "239       0.464581      -0.125553       0.662586  \n",
              "191      -0.072889      -0.878153      -0.307792  \n",
              "4        -0.232897      -0.978850      -0.110114  \n",
              "259      -0.029778      -0.846347       0.152894  \n",
              "222       0.806267      -0.265808      -0.229328  "
            ],
            "text/html": [
              "\n",
              "  <div id=\"df-2abd7707-0576-4504-97f2-c899e50b13ef\">\n",
              "    <div class=\"colab-df-container\">\n",
              "      <div>\n",
              "<style scoped>\n",
              "    .dataframe tbody tr th:only-of-type {\n",
              "        vertical-align: middle;\n",
              "    }\n",
              "\n",
              "    .dataframe tbody tr th {\n",
              "        vertical-align: top;\n",
              "    }\n",
              "\n",
              "    .dataframe thead th {\n",
              "        text-align: right;\n",
              "    }\n",
              "</style>\n",
              "<table border=\"1\" class=\"dataframe\">\n",
              "  <thead>\n",
              "    <tr style=\"text-align: right;\">\n",
              "      <th></th>\n",
              "      <th>Empatica_ACCX</th>\n",
              "      <th>Empatica_ACCY</th>\n",
              "      <th>Empatica_ACCZ</th>\n",
              "      <th>Empatica_HR</th>\n",
              "      <th>Hexoskin_RR</th>\n",
              "      <th>Hexoskin_ACCX</th>\n",
              "      <th>Hexoskin_ACCY</th>\n",
              "      <th>Hexoskin_ACCZ</th>\n",
              "    </tr>\n",
              "  </thead>\n",
              "  <tbody>\n",
              "    <tr>\n",
              "      <th>239</th>\n",
              "      <td>-0.019789</td>\n",
              "      <td>0.435036</td>\n",
              "      <td>0.675969</td>\n",
              "      <td>58.760400</td>\n",
              "      <td>13.345556</td>\n",
              "      <td>0.464581</td>\n",
              "      <td>-0.125553</td>\n",
              "      <td>0.662586</td>\n",
              "    </tr>\n",
              "    <tr>\n",
              "      <th>191</th>\n",
              "      <td>0.575367</td>\n",
              "      <td>0.105958</td>\n",
              "      <td>-0.240519</td>\n",
              "      <td>77.505789</td>\n",
              "      <td>12.907778</td>\n",
              "      <td>-0.072889</td>\n",
              "      <td>-0.878153</td>\n",
              "      <td>-0.307792</td>\n",
              "    </tr>\n",
              "    <tr>\n",
              "      <th>4</th>\n",
              "      <td>0.387303</td>\n",
              "      <td>-0.842639</td>\n",
              "      <td>-0.049214</td>\n",
              "      <td>108.357011</td>\n",
              "      <td>19.536667</td>\n",
              "      <td>-0.232897</td>\n",
              "      <td>-0.978850</td>\n",
              "      <td>-0.110114</td>\n",
              "    </tr>\n",
              "    <tr>\n",
              "      <th>259</th>\n",
              "      <td>0.587350</td>\n",
              "      <td>-0.363072</td>\n",
              "      <td>-0.131739</td>\n",
              "      <td>78.704467</td>\n",
              "      <td>17.235556</td>\n",
              "      <td>-0.029778</td>\n",
              "      <td>-0.846347</td>\n",
              "      <td>0.152894</td>\n",
              "    </tr>\n",
              "    <tr>\n",
              "      <th>222</th>\n",
              "      <td>-0.416131</td>\n",
              "      <td>-0.595486</td>\n",
              "      <td>0.500642</td>\n",
              "      <td>70.113889</td>\n",
              "      <td>15.316667</td>\n",
              "      <td>0.806267</td>\n",
              "      <td>-0.265808</td>\n",
              "      <td>-0.229328</td>\n",
              "    </tr>\n",
              "  </tbody>\n",
              "</table>\n",
              "</div>\n",
              "      <button class=\"colab-df-convert\" onclick=\"convertToInteractive('df-2abd7707-0576-4504-97f2-c899e50b13ef')\"\n",
              "              title=\"Convert this dataframe to an interactive table.\"\n",
              "              style=\"display:none;\">\n",
              "        \n",
              "  <svg xmlns=\"http://www.w3.org/2000/svg\" height=\"24px\"viewBox=\"0 0 24 24\"\n",
              "       width=\"24px\">\n",
              "    <path d=\"M0 0h24v24H0V0z\" fill=\"none\"/>\n",
              "    <path d=\"M18.56 5.44l.94 2.06.94-2.06 2.06-.94-2.06-.94-.94-2.06-.94 2.06-2.06.94zm-11 1L8.5 8.5l.94-2.06 2.06-.94-2.06-.94L8.5 2.5l-.94 2.06-2.06.94zm10 10l.94 2.06.94-2.06 2.06-.94-2.06-.94-.94-2.06-.94 2.06-2.06.94z\"/><path d=\"M17.41 7.96l-1.37-1.37c-.4-.4-.92-.59-1.43-.59-.52 0-1.04.2-1.43.59L10.3 9.45l-7.72 7.72c-.78.78-.78 2.05 0 2.83L4 21.41c.39.39.9.59 1.41.59.51 0 1.02-.2 1.41-.59l7.78-7.78 2.81-2.81c.8-.78.8-2.07 0-2.86zM5.41 20L4 18.59l7.72-7.72 1.47 1.35L5.41 20z\"/>\n",
              "  </svg>\n",
              "      </button>\n",
              "      \n",
              "  <style>\n",
              "    .colab-df-container {\n",
              "      display:flex;\n",
              "      flex-wrap:wrap;\n",
              "      gap: 12px;\n",
              "    }\n",
              "\n",
              "    .colab-df-convert {\n",
              "      background-color: #E8F0FE;\n",
              "      border: none;\n",
              "      border-radius: 50%;\n",
              "      cursor: pointer;\n",
              "      display: none;\n",
              "      fill: #1967D2;\n",
              "      height: 32px;\n",
              "      padding: 0 0 0 0;\n",
              "      width: 32px;\n",
              "    }\n",
              "\n",
              "    .colab-df-convert:hover {\n",
              "      background-color: #E2EBFA;\n",
              "      box-shadow: 0px 1px 2px rgba(60, 64, 67, 0.3), 0px 1px 3px 1px rgba(60, 64, 67, 0.15);\n",
              "      fill: #174EA6;\n",
              "    }\n",
              "\n",
              "    [theme=dark] .colab-df-convert {\n",
              "      background-color: #3B4455;\n",
              "      fill: #D2E3FC;\n",
              "    }\n",
              "\n",
              "    [theme=dark] .colab-df-convert:hover {\n",
              "      background-color: #434B5C;\n",
              "      box-shadow: 0px 1px 3px 1px rgba(0, 0, 0, 0.15);\n",
              "      filter: drop-shadow(0px 1px 2px rgba(0, 0, 0, 0.3));\n",
              "      fill: #FFFFFF;\n",
              "    }\n",
              "  </style>\n",
              "\n",
              "      <script>\n",
              "        const buttonEl =\n",
              "          document.querySelector('#df-2abd7707-0576-4504-97f2-c899e50b13ef button.colab-df-convert');\n",
              "        buttonEl.style.display =\n",
              "          google.colab.kernel.accessAllowed ? 'block' : 'none';\n",
              "\n",
              "        async function convertToInteractive(key) {\n",
              "          const element = document.querySelector('#df-2abd7707-0576-4504-97f2-c899e50b13ef');\n",
              "          const dataTable =\n",
              "            await google.colab.kernel.invokeFunction('convertToInteractive',\n",
              "                                                     [key], {});\n",
              "          if (!dataTable) return;\n",
              "\n",
              "          const docLinkHtml = 'Like what you see? Visit the ' +\n",
              "            '<a target=\"_blank\" href=https://colab.research.google.com/notebooks/data_table.ipynb>data table notebook</a>'\n",
              "            + ' to learn more about interactive tables.';\n",
              "          element.innerHTML = '';\n",
              "          dataTable['output_type'] = 'display_data';\n",
              "          await google.colab.output.renderOutput(dataTable, element);\n",
              "          const docLink = document.createElement('div');\n",
              "          docLink.innerHTML = docLinkHtml;\n",
              "          element.appendChild(docLink);\n",
              "        }\n",
              "      </script>\n",
              "    </div>\n",
              "  </div>\n",
              "  "
            ]
          },
          "metadata": {},
          "execution_count": 30
        }
      ]
    },
    {
      "cell_type": "code",
      "source": [
        "# use the .mean() and .std() methods to apply the z-score method in Pandas\n",
        "# use the mean and std of train set to normalization validation set and test set\n",
        "for column in X_test.columns:\n",
        "  X_test[column] = (X_test[column] - X_train[column].mean()) / X_train[column].std()"
      ],
      "metadata": {
        "id": "h8Eqkp4CtuFO"
      },
      "execution_count": null,
      "outputs": []
    },
    {
      "cell_type": "code",
      "source": [
        "for column in X_train.columns:\n",
        "  X_train[column] = (X_train[column] - X_train[column].mean()) / X_train[column].std()"
      ],
      "metadata": {
        "id": "_f7NYkTYpGBV"
      },
      "execution_count": null,
      "outputs": []
    },
    {
      "cell_type": "code",
      "source": [
        "X_train.head()"
      ],
      "metadata": {
        "colab": {
          "base_uri": "https://localhost:8080/"
        },
        "id": "6WL_sFBttXEe",
        "outputId": "cc33227d-3ef1-4c3c-af5e-8245ebc78e08"
      },
      "execution_count": null,
      "outputs": [
        {
          "output_type": "execute_result",
          "data": {
            "text/plain": [
              "     Empatica_ACCX  Empatica_ACCY  Empatica_ACCZ  Empatica_HR  Hexoskin_RR  \\\n",
              "239      -0.190643       1.600660       1.145383    -1.237738    -0.917180   \n",
              "191       0.851281       0.483694      -2.100606     0.148740    -1.062478   \n",
              "4         0.522042      -2.736064      -1.423046     2.430609     1.137644   \n",
              "259       0.872260      -1.108304      -1.715330     0.237398     0.373908   \n",
              "222      -0.884508      -1.897171       0.524413    -0.397992    -0.262970   \n",
              "\n",
              "     Hexoskin_ACCX  Hexoskin_ACCY  Hexoskin_ACCZ  \n",
              "239       0.922068       0.872049       2.348174  \n",
              "191      -0.209455      -0.707959      -0.685474  \n",
              "4        -0.546317      -0.919363      -0.067483  \n",
              "259      -0.118694      -0.641187       0.754748  \n",
              "222       1.641413       0.577597      -0.440176  "
            ],
            "text/html": [
              "\n",
              "  <div id=\"df-76c4975f-a78c-4ca1-97bf-6d8e2e047799\">\n",
              "    <div class=\"colab-df-container\">\n",
              "      <div>\n",
              "<style scoped>\n",
              "    .dataframe tbody tr th:only-of-type {\n",
              "        vertical-align: middle;\n",
              "    }\n",
              "\n",
              "    .dataframe tbody tr th {\n",
              "        vertical-align: top;\n",
              "    }\n",
              "\n",
              "    .dataframe thead th {\n",
              "        text-align: right;\n",
              "    }\n",
              "</style>\n",
              "<table border=\"1\" class=\"dataframe\">\n",
              "  <thead>\n",
              "    <tr style=\"text-align: right;\">\n",
              "      <th></th>\n",
              "      <th>Empatica_ACCX</th>\n",
              "      <th>Empatica_ACCY</th>\n",
              "      <th>Empatica_ACCZ</th>\n",
              "      <th>Empatica_HR</th>\n",
              "      <th>Hexoskin_RR</th>\n",
              "      <th>Hexoskin_ACCX</th>\n",
              "      <th>Hexoskin_ACCY</th>\n",
              "      <th>Hexoskin_ACCZ</th>\n",
              "    </tr>\n",
              "  </thead>\n",
              "  <tbody>\n",
              "    <tr>\n",
              "      <th>239</th>\n",
              "      <td>-0.190643</td>\n",
              "      <td>1.600660</td>\n",
              "      <td>1.145383</td>\n",
              "      <td>-1.237738</td>\n",
              "      <td>-0.917180</td>\n",
              "      <td>0.922068</td>\n",
              "      <td>0.872049</td>\n",
              "      <td>2.348174</td>\n",
              "    </tr>\n",
              "    <tr>\n",
              "      <th>191</th>\n",
              "      <td>0.851281</td>\n",
              "      <td>0.483694</td>\n",
              "      <td>-2.100606</td>\n",
              "      <td>0.148740</td>\n",
              "      <td>-1.062478</td>\n",
              "      <td>-0.209455</td>\n",
              "      <td>-0.707959</td>\n",
              "      <td>-0.685474</td>\n",
              "    </tr>\n",
              "    <tr>\n",
              "      <th>4</th>\n",
              "      <td>0.522042</td>\n",
              "      <td>-2.736064</td>\n",
              "      <td>-1.423046</td>\n",
              "      <td>2.430609</td>\n",
              "      <td>1.137644</td>\n",
              "      <td>-0.546317</td>\n",
              "      <td>-0.919363</td>\n",
              "      <td>-0.067483</td>\n",
              "    </tr>\n",
              "    <tr>\n",
              "      <th>259</th>\n",
              "      <td>0.872260</td>\n",
              "      <td>-1.108304</td>\n",
              "      <td>-1.715330</td>\n",
              "      <td>0.237398</td>\n",
              "      <td>0.373908</td>\n",
              "      <td>-0.118694</td>\n",
              "      <td>-0.641187</td>\n",
              "      <td>0.754748</td>\n",
              "    </tr>\n",
              "    <tr>\n",
              "      <th>222</th>\n",
              "      <td>-0.884508</td>\n",
              "      <td>-1.897171</td>\n",
              "      <td>0.524413</td>\n",
              "      <td>-0.397992</td>\n",
              "      <td>-0.262970</td>\n",
              "      <td>1.641413</td>\n",
              "      <td>0.577597</td>\n",
              "      <td>-0.440176</td>\n",
              "    </tr>\n",
              "  </tbody>\n",
              "</table>\n",
              "</div>\n",
              "      <button class=\"colab-df-convert\" onclick=\"convertToInteractive('df-76c4975f-a78c-4ca1-97bf-6d8e2e047799')\"\n",
              "              title=\"Convert this dataframe to an interactive table.\"\n",
              "              style=\"display:none;\">\n",
              "        \n",
              "  <svg xmlns=\"http://www.w3.org/2000/svg\" height=\"24px\"viewBox=\"0 0 24 24\"\n",
              "       width=\"24px\">\n",
              "    <path d=\"M0 0h24v24H0V0z\" fill=\"none\"/>\n",
              "    <path d=\"M18.56 5.44l.94 2.06.94-2.06 2.06-.94-2.06-.94-.94-2.06-.94 2.06-2.06.94zm-11 1L8.5 8.5l.94-2.06 2.06-.94-2.06-.94L8.5 2.5l-.94 2.06-2.06.94zm10 10l.94 2.06.94-2.06 2.06-.94-2.06-.94-.94-2.06-.94 2.06-2.06.94z\"/><path d=\"M17.41 7.96l-1.37-1.37c-.4-.4-.92-.59-1.43-.59-.52 0-1.04.2-1.43.59L10.3 9.45l-7.72 7.72c-.78.78-.78 2.05 0 2.83L4 21.41c.39.39.9.59 1.41.59.51 0 1.02-.2 1.41-.59l7.78-7.78 2.81-2.81c.8-.78.8-2.07 0-2.86zM5.41 20L4 18.59l7.72-7.72 1.47 1.35L5.41 20z\"/>\n",
              "  </svg>\n",
              "      </button>\n",
              "      \n",
              "  <style>\n",
              "    .colab-df-container {\n",
              "      display:flex;\n",
              "      flex-wrap:wrap;\n",
              "      gap: 12px;\n",
              "    }\n",
              "\n",
              "    .colab-df-convert {\n",
              "      background-color: #E8F0FE;\n",
              "      border: none;\n",
              "      border-radius: 50%;\n",
              "      cursor: pointer;\n",
              "      display: none;\n",
              "      fill: #1967D2;\n",
              "      height: 32px;\n",
              "      padding: 0 0 0 0;\n",
              "      width: 32px;\n",
              "    }\n",
              "\n",
              "    .colab-df-convert:hover {\n",
              "      background-color: #E2EBFA;\n",
              "      box-shadow: 0px 1px 2px rgba(60, 64, 67, 0.3), 0px 1px 3px 1px rgba(60, 64, 67, 0.15);\n",
              "      fill: #174EA6;\n",
              "    }\n",
              "\n",
              "    [theme=dark] .colab-df-convert {\n",
              "      background-color: #3B4455;\n",
              "      fill: #D2E3FC;\n",
              "    }\n",
              "\n",
              "    [theme=dark] .colab-df-convert:hover {\n",
              "      background-color: #434B5C;\n",
              "      box-shadow: 0px 1px 3px 1px rgba(0, 0, 0, 0.15);\n",
              "      filter: drop-shadow(0px 1px 2px rgba(0, 0, 0, 0.3));\n",
              "      fill: #FFFFFF;\n",
              "    }\n",
              "  </style>\n",
              "\n",
              "      <script>\n",
              "        const buttonEl =\n",
              "          document.querySelector('#df-76c4975f-a78c-4ca1-97bf-6d8e2e047799 button.colab-df-convert');\n",
              "        buttonEl.style.display =\n",
              "          google.colab.kernel.accessAllowed ? 'block' : 'none';\n",
              "\n",
              "        async function convertToInteractive(key) {\n",
              "          const element = document.querySelector('#df-76c4975f-a78c-4ca1-97bf-6d8e2e047799');\n",
              "          const dataTable =\n",
              "            await google.colab.kernel.invokeFunction('convertToInteractive',\n",
              "                                                     [key], {});\n",
              "          if (!dataTable) return;\n",
              "\n",
              "          const docLinkHtml = 'Like what you see? Visit the ' +\n",
              "            '<a target=\"_blank\" href=https://colab.research.google.com/notebooks/data_table.ipynb>data table notebook</a>'\n",
              "            + ' to learn more about interactive tables.';\n",
              "          element.innerHTML = '';\n",
              "          dataTable['output_type'] = 'display_data';\n",
              "          await google.colab.output.renderOutput(dataTable, element);\n",
              "          const docLink = document.createElement('div');\n",
              "          docLink.innerHTML = docLinkHtml;\n",
              "          element.appendChild(docLink);\n",
              "        }\n",
              "      </script>\n",
              "    </div>\n",
              "  </div>\n",
              "  "
            ]
          },
          "metadata": {},
          "execution_count": 33
        }
      ]
    },
    {
      "cell_type": "code",
      "source": [
        "X_test.head()"
      ],
      "metadata": {
        "colab": {
          "base_uri": "https://localhost:8080/"
        },
        "id": "Rsss4OYPudUs",
        "outputId": "8e6d111c-6086-4c87-ff66-5b54b22d2cc4"
      },
      "execution_count": null,
      "outputs": [
        {
          "output_type": "execute_result",
          "data": {
            "text/plain": [
              "     Empatica_ACCX  Empatica_ACCY  Empatica_ACCZ  Empatica_HR  Hexoskin_RR  \\\n",
              "59        0.634372       2.221842       0.058799     0.147798     0.570834   \n",
              "204       0.740220       0.705460      -0.507451     0.695921     0.152273   \n",
              "133       0.278762       1.340200       0.286977     0.050855    -0.527014   \n",
              "248      -0.403121      -0.029598       1.783245    -1.259449    -1.058421   \n",
              "7         0.999490       0.986540      -1.525344     1.883993     0.171449   \n",
              "\n",
              "     Hexoskin_ACCX  Hexoskin_ACCY  Hexoskin_ACCZ  \n",
              "59       -1.382545      -0.003646      -1.333582  \n",
              "204      -0.358257      -0.743772       0.328153  \n",
              "133      -0.550527       1.255306       1.907772  \n",
              "248       1.376545       0.934180       1.246004  \n",
              "7         0.008547      -0.720375       0.129219  "
            ],
            "text/html": [
              "\n",
              "  <div id=\"df-7e518379-c6ca-4a04-a798-2f8b1ead6e3f\">\n",
              "    <div class=\"colab-df-container\">\n",
              "      <div>\n",
              "<style scoped>\n",
              "    .dataframe tbody tr th:only-of-type {\n",
              "        vertical-align: middle;\n",
              "    }\n",
              "\n",
              "    .dataframe tbody tr th {\n",
              "        vertical-align: top;\n",
              "    }\n",
              "\n",
              "    .dataframe thead th {\n",
              "        text-align: right;\n",
              "    }\n",
              "</style>\n",
              "<table border=\"1\" class=\"dataframe\">\n",
              "  <thead>\n",
              "    <tr style=\"text-align: right;\">\n",
              "      <th></th>\n",
              "      <th>Empatica_ACCX</th>\n",
              "      <th>Empatica_ACCY</th>\n",
              "      <th>Empatica_ACCZ</th>\n",
              "      <th>Empatica_HR</th>\n",
              "      <th>Hexoskin_RR</th>\n",
              "      <th>Hexoskin_ACCX</th>\n",
              "      <th>Hexoskin_ACCY</th>\n",
              "      <th>Hexoskin_ACCZ</th>\n",
              "    </tr>\n",
              "  </thead>\n",
              "  <tbody>\n",
              "    <tr>\n",
              "      <th>59</th>\n",
              "      <td>0.634372</td>\n",
              "      <td>2.221842</td>\n",
              "      <td>0.058799</td>\n",
              "      <td>0.147798</td>\n",
              "      <td>0.570834</td>\n",
              "      <td>-1.382545</td>\n",
              "      <td>-0.003646</td>\n",
              "      <td>-1.333582</td>\n",
              "    </tr>\n",
              "    <tr>\n",
              "      <th>204</th>\n",
              "      <td>0.740220</td>\n",
              "      <td>0.705460</td>\n",
              "      <td>-0.507451</td>\n",
              "      <td>0.695921</td>\n",
              "      <td>0.152273</td>\n",
              "      <td>-0.358257</td>\n",
              "      <td>-0.743772</td>\n",
              "      <td>0.328153</td>\n",
              "    </tr>\n",
              "    <tr>\n",
              "      <th>133</th>\n",
              "      <td>0.278762</td>\n",
              "      <td>1.340200</td>\n",
              "      <td>0.286977</td>\n",
              "      <td>0.050855</td>\n",
              "      <td>-0.527014</td>\n",
              "      <td>-0.550527</td>\n",
              "      <td>1.255306</td>\n",
              "      <td>1.907772</td>\n",
              "    </tr>\n",
              "    <tr>\n",
              "      <th>248</th>\n",
              "      <td>-0.403121</td>\n",
              "      <td>-0.029598</td>\n",
              "      <td>1.783245</td>\n",
              "      <td>-1.259449</td>\n",
              "      <td>-1.058421</td>\n",
              "      <td>1.376545</td>\n",
              "      <td>0.934180</td>\n",
              "      <td>1.246004</td>\n",
              "    </tr>\n",
              "    <tr>\n",
              "      <th>7</th>\n",
              "      <td>0.999490</td>\n",
              "      <td>0.986540</td>\n",
              "      <td>-1.525344</td>\n",
              "      <td>1.883993</td>\n",
              "      <td>0.171449</td>\n",
              "      <td>0.008547</td>\n",
              "      <td>-0.720375</td>\n",
              "      <td>0.129219</td>\n",
              "    </tr>\n",
              "  </tbody>\n",
              "</table>\n",
              "</div>\n",
              "      <button class=\"colab-df-convert\" onclick=\"convertToInteractive('df-7e518379-c6ca-4a04-a798-2f8b1ead6e3f')\"\n",
              "              title=\"Convert this dataframe to an interactive table.\"\n",
              "              style=\"display:none;\">\n",
              "        \n",
              "  <svg xmlns=\"http://www.w3.org/2000/svg\" height=\"24px\"viewBox=\"0 0 24 24\"\n",
              "       width=\"24px\">\n",
              "    <path d=\"M0 0h24v24H0V0z\" fill=\"none\"/>\n",
              "    <path d=\"M18.56 5.44l.94 2.06.94-2.06 2.06-.94-2.06-.94-.94-2.06-.94 2.06-2.06.94zm-11 1L8.5 8.5l.94-2.06 2.06-.94-2.06-.94L8.5 2.5l-.94 2.06-2.06.94zm10 10l.94 2.06.94-2.06 2.06-.94-2.06-.94-.94-2.06-.94 2.06-2.06.94z\"/><path d=\"M17.41 7.96l-1.37-1.37c-.4-.4-.92-.59-1.43-.59-.52 0-1.04.2-1.43.59L10.3 9.45l-7.72 7.72c-.78.78-.78 2.05 0 2.83L4 21.41c.39.39.9.59 1.41.59.51 0 1.02-.2 1.41-.59l7.78-7.78 2.81-2.81c.8-.78.8-2.07 0-2.86zM5.41 20L4 18.59l7.72-7.72 1.47 1.35L5.41 20z\"/>\n",
              "  </svg>\n",
              "      </button>\n",
              "      \n",
              "  <style>\n",
              "    .colab-df-container {\n",
              "      display:flex;\n",
              "      flex-wrap:wrap;\n",
              "      gap: 12px;\n",
              "    }\n",
              "\n",
              "    .colab-df-convert {\n",
              "      background-color: #E8F0FE;\n",
              "      border: none;\n",
              "      border-radius: 50%;\n",
              "      cursor: pointer;\n",
              "      display: none;\n",
              "      fill: #1967D2;\n",
              "      height: 32px;\n",
              "      padding: 0 0 0 0;\n",
              "      width: 32px;\n",
              "    }\n",
              "\n",
              "    .colab-df-convert:hover {\n",
              "      background-color: #E2EBFA;\n",
              "      box-shadow: 0px 1px 2px rgba(60, 64, 67, 0.3), 0px 1px 3px 1px rgba(60, 64, 67, 0.15);\n",
              "      fill: #174EA6;\n",
              "    }\n",
              "\n",
              "    [theme=dark] .colab-df-convert {\n",
              "      background-color: #3B4455;\n",
              "      fill: #D2E3FC;\n",
              "    }\n",
              "\n",
              "    [theme=dark] .colab-df-convert:hover {\n",
              "      background-color: #434B5C;\n",
              "      box-shadow: 0px 1px 3px 1px rgba(0, 0, 0, 0.15);\n",
              "      filter: drop-shadow(0px 1px 2px rgba(0, 0, 0, 0.3));\n",
              "      fill: #FFFFFF;\n",
              "    }\n",
              "  </style>\n",
              "\n",
              "      <script>\n",
              "        const buttonEl =\n",
              "          document.querySelector('#df-7e518379-c6ca-4a04-a798-2f8b1ead6e3f button.colab-df-convert');\n",
              "        buttonEl.style.display =\n",
              "          google.colab.kernel.accessAllowed ? 'block' : 'none';\n",
              "\n",
              "        async function convertToInteractive(key) {\n",
              "          const element = document.querySelector('#df-7e518379-c6ca-4a04-a798-2f8b1ead6e3f');\n",
              "          const dataTable =\n",
              "            await google.colab.kernel.invokeFunction('convertToInteractive',\n",
              "                                                     [key], {});\n",
              "          if (!dataTable) return;\n",
              "\n",
              "          const docLinkHtml = 'Like what you see? Visit the ' +\n",
              "            '<a target=\"_blank\" href=https://colab.research.google.com/notebooks/data_table.ipynb>data table notebook</a>'\n",
              "            + ' to learn more about interactive tables.';\n",
              "          element.innerHTML = '';\n",
              "          dataTable['output_type'] = 'display_data';\n",
              "          await google.colab.output.renderOutput(dataTable, element);\n",
              "          const docLink = document.createElement('div');\n",
              "          docLink.innerHTML = docLinkHtml;\n",
              "          element.appendChild(docLink);\n",
              "        }\n",
              "      </script>\n",
              "    </div>\n",
              "  </div>\n",
              "  "
            ]
          },
          "metadata": {},
          "execution_count": 34
        }
      ]
    },
    {
      "cell_type": "markdown",
      "source": [
        "## Class Imbalance"
      ],
      "metadata": {
        "id": "MFSwygYNwMB0"
      }
    },
    {
      "cell_type": "code",
      "source": [
        "pd.value_counts(y_train)"
      ],
      "metadata": {
        "colab": {
          "base_uri": "https://localhost:8080/"
        },
        "id": "Em7-GvJ0VClI",
        "outputId": "1e9a373d-4831-49f4-ffdf-11b0f2845827"
      },
      "execution_count": null,
      "outputs": [
        {
          "output_type": "execute_result",
          "data": {
            "text/plain": [
              "1    113\n",
              "2     77\n",
              "0     35\n",
              "Name: Activity, dtype: int64"
            ]
          },
          "metadata": {},
          "execution_count": 35
        }
      ]
    },
    {
      "cell_type": "code",
      "source": [
        "# import SMOTE module from imblearn library\n",
        "# pip install imblearn (if you don't have imblearn in your system)\n",
        "from imblearn.over_sampling import SMOTE\n",
        "sm = SMOTE(random_state = 2)\n",
        "X_train_sm, y_train_sm = sm.fit_resample(X_train, y_train)"
      ],
      "metadata": {
        "id": "HoUvx5gfwT2t"
      },
      "execution_count": null,
      "outputs": []
    },
    {
      "cell_type": "code",
      "source": [
        "pd.value_counts(y_train_sm)"
      ],
      "metadata": {
        "colab": {
          "base_uri": "https://localhost:8080/"
        },
        "id": "W09B-VoIBMWD",
        "outputId": "79dd328b-e548-4cd3-c100-7d03a8a36345"
      },
      "execution_count": null,
      "outputs": [
        {
          "output_type": "execute_result",
          "data": {
            "text/plain": [
              "2    113\n",
              "1    113\n",
              "0    113\n",
              "Name: Activity, dtype: int64"
            ]
          },
          "metadata": {},
          "execution_count": 37
        }
      ]
    },
    {
      "cell_type": "markdown",
      "source": [
        "## One-hot encode"
      ],
      "metadata": {
        "id": "f3K81bQXgIJM"
      }
    },
    {
      "cell_type": "code",
      "source": [
        "#one-hot for train set\n",
        "y_train_oh = pd.get_dummies(y_train)"
      ],
      "metadata": {
        "id": "kSCtpCXDxbOq"
      },
      "execution_count": null,
      "outputs": []
    },
    {
      "cell_type": "code",
      "source": [
        "y_train_oh"
      ],
      "metadata": {
        "colab": {
          "base_uri": "https://localhost:8080/"
        },
        "id": "9lfyRATHvoj9",
        "outputId": "c29f49b5-ecf5-40ac-ccfd-ff90c64d92cc"
      },
      "execution_count": null,
      "outputs": [
        {
          "output_type": "execute_result",
          "data": {
            "text/plain": [
              "     0  1  2\n",
              "239  0  0  1\n",
              "191  0  1  0\n",
              "4    1  0  0\n",
              "259  0  1  0\n",
              "222  0  1  0\n",
              "..  .. .. ..\n",
              "217  0  1  0\n",
              "260  0  1  0\n",
              "182  0  1  0\n",
              "274  0  0  1\n",
              "275  0  0  1\n",
              "\n",
              "[225 rows x 3 columns]"
            ],
            "text/html": [
              "\n",
              "  <div id=\"df-c9e289bd-f821-4e7e-b8bd-37e918d665a9\">\n",
              "    <div class=\"colab-df-container\">\n",
              "      <div>\n",
              "<style scoped>\n",
              "    .dataframe tbody tr th:only-of-type {\n",
              "        vertical-align: middle;\n",
              "    }\n",
              "\n",
              "    .dataframe tbody tr th {\n",
              "        vertical-align: top;\n",
              "    }\n",
              "\n",
              "    .dataframe thead th {\n",
              "        text-align: right;\n",
              "    }\n",
              "</style>\n",
              "<table border=\"1\" class=\"dataframe\">\n",
              "  <thead>\n",
              "    <tr style=\"text-align: right;\">\n",
              "      <th></th>\n",
              "      <th>0</th>\n",
              "      <th>1</th>\n",
              "      <th>2</th>\n",
              "    </tr>\n",
              "  </thead>\n",
              "  <tbody>\n",
              "    <tr>\n",
              "      <th>239</th>\n",
              "      <td>0</td>\n",
              "      <td>0</td>\n",
              "      <td>1</td>\n",
              "    </tr>\n",
              "    <tr>\n",
              "      <th>191</th>\n",
              "      <td>0</td>\n",
              "      <td>1</td>\n",
              "      <td>0</td>\n",
              "    </tr>\n",
              "    <tr>\n",
              "      <th>4</th>\n",
              "      <td>1</td>\n",
              "      <td>0</td>\n",
              "      <td>0</td>\n",
              "    </tr>\n",
              "    <tr>\n",
              "      <th>259</th>\n",
              "      <td>0</td>\n",
              "      <td>1</td>\n",
              "      <td>0</td>\n",
              "    </tr>\n",
              "    <tr>\n",
              "      <th>222</th>\n",
              "      <td>0</td>\n",
              "      <td>1</td>\n",
              "      <td>0</td>\n",
              "    </tr>\n",
              "    <tr>\n",
              "      <th>...</th>\n",
              "      <td>...</td>\n",
              "      <td>...</td>\n",
              "      <td>...</td>\n",
              "    </tr>\n",
              "    <tr>\n",
              "      <th>217</th>\n",
              "      <td>0</td>\n",
              "      <td>1</td>\n",
              "      <td>0</td>\n",
              "    </tr>\n",
              "    <tr>\n",
              "      <th>260</th>\n",
              "      <td>0</td>\n",
              "      <td>1</td>\n",
              "      <td>0</td>\n",
              "    </tr>\n",
              "    <tr>\n",
              "      <th>182</th>\n",
              "      <td>0</td>\n",
              "      <td>1</td>\n",
              "      <td>0</td>\n",
              "    </tr>\n",
              "    <tr>\n",
              "      <th>274</th>\n",
              "      <td>0</td>\n",
              "      <td>0</td>\n",
              "      <td>1</td>\n",
              "    </tr>\n",
              "    <tr>\n",
              "      <th>275</th>\n",
              "      <td>0</td>\n",
              "      <td>0</td>\n",
              "      <td>1</td>\n",
              "    </tr>\n",
              "  </tbody>\n",
              "</table>\n",
              "<p>225 rows × 3 columns</p>\n",
              "</div>\n",
              "      <button class=\"colab-df-convert\" onclick=\"convertToInteractive('df-c9e289bd-f821-4e7e-b8bd-37e918d665a9')\"\n",
              "              title=\"Convert this dataframe to an interactive table.\"\n",
              "              style=\"display:none;\">\n",
              "        \n",
              "  <svg xmlns=\"http://www.w3.org/2000/svg\" height=\"24px\"viewBox=\"0 0 24 24\"\n",
              "       width=\"24px\">\n",
              "    <path d=\"M0 0h24v24H0V0z\" fill=\"none\"/>\n",
              "    <path d=\"M18.56 5.44l.94 2.06.94-2.06 2.06-.94-2.06-.94-.94-2.06-.94 2.06-2.06.94zm-11 1L8.5 8.5l.94-2.06 2.06-.94-2.06-.94L8.5 2.5l-.94 2.06-2.06.94zm10 10l.94 2.06.94-2.06 2.06-.94-2.06-.94-.94-2.06-.94 2.06-2.06.94z\"/><path d=\"M17.41 7.96l-1.37-1.37c-.4-.4-.92-.59-1.43-.59-.52 0-1.04.2-1.43.59L10.3 9.45l-7.72 7.72c-.78.78-.78 2.05 0 2.83L4 21.41c.39.39.9.59 1.41.59.51 0 1.02-.2 1.41-.59l7.78-7.78 2.81-2.81c.8-.78.8-2.07 0-2.86zM5.41 20L4 18.59l7.72-7.72 1.47 1.35L5.41 20z\"/>\n",
              "  </svg>\n",
              "      </button>\n",
              "      \n",
              "  <style>\n",
              "    .colab-df-container {\n",
              "      display:flex;\n",
              "      flex-wrap:wrap;\n",
              "      gap: 12px;\n",
              "    }\n",
              "\n",
              "    .colab-df-convert {\n",
              "      background-color: #E8F0FE;\n",
              "      border: none;\n",
              "      border-radius: 50%;\n",
              "      cursor: pointer;\n",
              "      display: none;\n",
              "      fill: #1967D2;\n",
              "      height: 32px;\n",
              "      padding: 0 0 0 0;\n",
              "      width: 32px;\n",
              "    }\n",
              "\n",
              "    .colab-df-convert:hover {\n",
              "      background-color: #E2EBFA;\n",
              "      box-shadow: 0px 1px 2px rgba(60, 64, 67, 0.3), 0px 1px 3px 1px rgba(60, 64, 67, 0.15);\n",
              "      fill: #174EA6;\n",
              "    }\n",
              "\n",
              "    [theme=dark] .colab-df-convert {\n",
              "      background-color: #3B4455;\n",
              "      fill: #D2E3FC;\n",
              "    }\n",
              "\n",
              "    [theme=dark] .colab-df-convert:hover {\n",
              "      background-color: #434B5C;\n",
              "      box-shadow: 0px 1px 3px 1px rgba(0, 0, 0, 0.15);\n",
              "      filter: drop-shadow(0px 1px 2px rgba(0, 0, 0, 0.3));\n",
              "      fill: #FFFFFF;\n",
              "    }\n",
              "  </style>\n",
              "\n",
              "      <script>\n",
              "        const buttonEl =\n",
              "          document.querySelector('#df-c9e289bd-f821-4e7e-b8bd-37e918d665a9 button.colab-df-convert');\n",
              "        buttonEl.style.display =\n",
              "          google.colab.kernel.accessAllowed ? 'block' : 'none';\n",
              "\n",
              "        async function convertToInteractive(key) {\n",
              "          const element = document.querySelector('#df-c9e289bd-f821-4e7e-b8bd-37e918d665a9');\n",
              "          const dataTable =\n",
              "            await google.colab.kernel.invokeFunction('convertToInteractive',\n",
              "                                                     [key], {});\n",
              "          if (!dataTable) return;\n",
              "\n",
              "          const docLinkHtml = 'Like what you see? Visit the ' +\n",
              "            '<a target=\"_blank\" href=https://colab.research.google.com/notebooks/data_table.ipynb>data table notebook</a>'\n",
              "            + ' to learn more about interactive tables.';\n",
              "          element.innerHTML = '';\n",
              "          dataTable['output_type'] = 'display_data';\n",
              "          await google.colab.output.renderOutput(dataTable, element);\n",
              "          const docLink = document.createElement('div');\n",
              "          docLink.innerHTML = docLinkHtml;\n",
              "          element.appendChild(docLink);\n",
              "        }\n",
              "      </script>\n",
              "    </div>\n",
              "  </div>\n",
              "  "
            ]
          },
          "metadata": {},
          "execution_count": 39
        }
      ]
    },
    {
      "cell_type": "code",
      "source": [
        "#one-hot for test set\n",
        "y_test_oh = pd.get_dummies(y_test)"
      ],
      "metadata": {
        "id": "AoOVOEaNv0k7"
      },
      "execution_count": null,
      "outputs": []
    },
    {
      "cell_type": "markdown",
      "source": [
        "# Logistic Regression"
      ],
      "metadata": {
        "id": "FKgEMeE09cHC"
      }
    },
    {
      "cell_type": "markdown",
      "source": [
        "### Model with SMOTE"
      ],
      "metadata": {
        "id": "T4WAVGKxR3wE"
      }
    },
    {
      "cell_type": "code",
      "source": [
        "from sklearn.linear_model import LogisticRegression\n",
        "from sklearn.metrics import confusion_matrix, classification_report"
      ],
      "metadata": {
        "id": "qs125mnk9j54"
      },
      "execution_count": null,
      "outputs": []
    },
    {
      "cell_type": "code",
      "source": [
        "lr = LogisticRegression()\n",
        "lr.fit(X_train_sm, y_train_sm)\n",
        "predictions = lr.predict(X_test)\n",
        "  \n",
        "# print classification report\n",
        "print(classification_report(y_test, predictions))"
      ],
      "metadata": {
        "colab": {
          "base_uri": "https://localhost:8080/"
        },
        "id": "6oqDWIUQA5vF",
        "outputId": "c5ef843f-f10d-4f25-a28c-c00e3b0211a2"
      },
      "execution_count": null,
      "outputs": [
        {
          "output_type": "stream",
          "name": "stdout",
          "text": [
            "              precision    recall  f1-score   support\n",
            "\n",
            "           0       0.62      0.89      0.73         9\n",
            "           1       0.79      0.82      0.81        28\n",
            "           2       1.00      0.75      0.86        20\n",
            "\n",
            "    accuracy                           0.81        57\n",
            "   macro avg       0.80      0.82      0.80        57\n",
            "weighted avg       0.84      0.81      0.81        57\n",
            "\n"
          ]
        }
      ]
    },
    {
      "cell_type": "code",
      "source": [
        "#Confusion matrix\n",
        "from sklearn import metrics\n",
        "cm = metrics.confusion_matrix(y_test, predictions)\n",
        "score = lr.score(X_test, y_test)\n",
        "\n",
        "print('Accuracy Score: {0}'.format(score))\n",
        "plt.figure(figsize=(3,3))\n",
        "sns.heatmap(cm, annot=True, fmt=\".3f\", linewidths=.5, square = True, cmap = 'Blues_r');\n",
        "plt.ylabel('Actual label');\n",
        "plt.xlabel('Predicted label');"
      ],
      "metadata": {
        "colab": {
          "base_uri": "https://localhost:8080/",
          "height": 228
        },
        "id": "fwQKGWMQRk7T",
        "outputId": "edf57df1-4ba9-41bb-b55e-b0fb8bd8c443"
      },
      "execution_count": null,
      "outputs": [
        {
          "output_type": "stream",
          "name": "stdout",
          "text": [
            "Accuracy Score: 0.8070175438596491\n"
          ]
        },
        {
          "output_type": "display_data",
          "data": {
            "text/plain": [
              "<Figure size 216x216 with 2 Axes>"
            ],
            "image/png": "[encoded data removed]"
          },
          "metadata": {
            "needs_background": "light"
          }
        }
      ]
    },
    {
      "cell_type": "markdown",
      "source": [
        "### Model without SMOTE"
      ],
      "metadata": {
        "id": "PggOw93SSDr-"
      }
    },
    {
      "cell_type": "code",
      "source": [
        "lr2 = LogisticRegression()\n",
        "lr2.fit(X_train, y_train)\n",
        "predictions2 = lr2.predict(X_test)\n",
        " \n",
        "# print classification report\n",
        "print(classification_report(y_test, predictions2))"
      ],
      "metadata": {
        "colab": {
          "base_uri": "https://localhost:8080/"
        },
        "id": "JGGo1kuiSDdW",
        "outputId": "361a0b69-870e-4a05-b93d-ac9417228fe2"
      },
      "execution_count": null,
      "outputs": [
        {
          "output_type": "stream",
          "name": "stdout",
          "text": [
            "              precision    recall  f1-score   support\n",
            "\n",
            "           0       0.71      0.56      0.63         9\n",
            "           1       0.74      0.93      0.83        28\n",
            "           2       1.00      0.75      0.86        20\n",
            "\n",
            "    accuracy                           0.81        57\n",
            "   macro avg       0.82      0.74      0.77        57\n",
            "weighted avg       0.83      0.81      0.80        57\n",
            "\n"
          ]
        }
      ]
    },
    {
      "cell_type": "code",
      "source": [
        "#Confusion matrix\n",
        "from sklearn import metrics\n",
        "cm2 = metrics.confusion_matrix(y_test, predictions2)\n",
        "score2 = lr2.score(X_test, y_test)\n",
        "\n",
        "print('Accuracy Score: {0}'.format(score2))\n",
        "plt.figure(figsize=(3,3))\n",
        "sns.heatmap(cm2, annot=True, fmt=\".3f\", linewidths=.5, square = True, cmap = 'Blues_r');\n",
        "plt.ylabel('Actual label');\n",
        "plt.xlabel('Predicted label');"
      ],
      "metadata": {
        "colab": {
          "base_uri": "https://localhost:8080/",
          "height": 228
        },
        "id": "BMvKGlMPSJV0",
        "outputId": "36fbd49b-c8cb-4b73-f506-ba7203190190"
      },
      "execution_count": null,
      "outputs": [
        {
          "output_type": "stream",
          "name": "stdout",
          "text": [
            "Accuracy Score: 0.8070175438596491\n"
          ]
        },
        {
          "output_type": "display_data",
          "data": {
            "text/plain": [
              "<Figure size 216x216 with 2 Axes>"
            ],
            "image/png": "[encoded data removed]"
          },
          "metadata": {
            "needs_background": "light"
          }
        }
      ]
    },
    {
      "cell_type": "markdown",
      "source": [
        "### Model with 'ovr' option"
      ],
      "metadata": {
        "id": "1AnO90vaSSrf"
      }
    },
    {
      "cell_type": "code",
      "source": [
        "#Use 'ovr'\n",
        "lr_ovr = LogisticRegression(multi_class='ovr')\n",
        "lr_ovr.fit(X_train, y_train)\n",
        "predictions_ovr = lr_ovr.predict(X_test)\n",
        " \n",
        "# print classification report\n",
        "print(classification_report(y_test, predictions_ovr))"
      ],
      "metadata": {
        "colab": {
          "base_uri": "https://localhost:8080/"
        },
        "id": "QCDC10WXSVdo",
        "outputId": "9ad42be6-c51c-4396-afc7-2ceb69ac4b1c"
      },
      "execution_count": null,
      "outputs": [
        {
          "output_type": "stream",
          "name": "stdout",
          "text": [
            "              precision    recall  f1-score   support\n",
            "\n",
            "           0       0.71      0.56      0.63         9\n",
            "           1       0.76      0.93      0.84        28\n",
            "           2       1.00      0.80      0.89        20\n",
            "\n",
            "    accuracy                           0.82        57\n",
            "   macro avg       0.83      0.76      0.78        57\n",
            "weighted avg       0.84      0.82      0.82        57\n",
            "\n"
          ]
        }
      ]
    },
    {
      "cell_type": "code",
      "source": [
        "#Confusion matrix\n",
        "cm_ovr = metrics.confusion_matrix(y_test, predictions_ovr)\n",
        "score_ovr = lr_ovr.score(X_test, y_test)\n",
        "\n",
        "print('Accuracy Score: {0}'.format(score_ovr))\n",
        "plt.figure(figsize=(3,3))\n",
        "sns.heatmap(cm_ovr, annot=True, fmt=\".3f\", linewidths=.5, square = True, cmap = 'Blues_r');\n",
        "plt.ylabel('Actual label');\n",
        "plt.xlabel('Predicted label');"
      ],
      "metadata": {
        "colab": {
          "base_uri": "https://localhost:8080/",
          "height": 228
        },
        "id": "OUN9aN62SXV7",
        "outputId": "bde51836-9aa6-4723-ce3f-4448192f51ed"
      },
      "execution_count": null,
      "outputs": [
        {
          "output_type": "stream",
          "name": "stdout",
          "text": [
            "Accuracy Score: 0.8245614035087719\n"
          ]
        },
        {
          "output_type": "display_data",
          "data": {
            "text/plain": [
              "<Figure size 216x216 with 2 Axes>"
            ],
            "image/png": "[encoded data removed]"
          },
          "metadata": {
            "needs_background": "light"
          }
        }
      ]
    },
    {
      "cell_type": "markdown",
      "source": [
        "# Random Forest"
      ],
      "metadata": {
        "id": "ES-rX-_9OZUA"
      }
    },
    {
      "cell_type": "code",
      "source": [
        "from sklearn.model_selection import StratifiedShuffleSplit, GridSearchCV, cross_val_score"
      ],
      "metadata": {
        "id": "UyexX8LX3cx1"
      },
      "execution_count": null,
      "outputs": []
    },
    {
      "cell_type": "code",
      "source": [
        "# import the classifier\n",
        "from sklearn.ensemble import RandomForestClassifier\n",
        "\n",
        "# create classifier object\n",
        "rf = RandomForestClassifier(n_estimators = 100, random_state = 42)"
      ],
      "metadata": {
        "id": "Ns_ZJby-GDs7"
      },
      "execution_count": null,
      "outputs": []
    },
    {
      "cell_type": "code",
      "source": [
        "# use cross validation to calculate the score\n",
        "score_pre = cross_val_score(rf, X_train, y_train, cv=10).mean()\n",
        "score_pre"
      ],
      "metadata": {
        "colab": {
          "base_uri": "https://localhost:8080/"
        },
        "id": "qKTSYlMoG6Mn",
        "outputId": "22d54adb-c665-499b-d47a-e5333e1d6080"
      },
      "execution_count": null,
      "outputs": [
        {
          "output_type": "execute_result",
          "data": {
            "text/plain": [
              "0.8397233201581027"
            ]
          },
          "metadata": {},
          "execution_count": 50
        }
      ]
    },
    {
      "cell_type": "markdown",
      "source": [
        "### Adjust parameters"
      ],
      "metadata": {
        "id": "qEPDA0sN2NQv"
      }
    },
    {
      "cell_type": "markdown",
      "source": [
        "### Select the best n_estimators"
      ],
      "metadata": {
        "id": "Gr3IIWG94BCJ"
      }
    },
    {
      "cell_type": "code",
      "source": [
        "ScoreAll = []\n",
        "for i in range(0, 200, 10):\n",
        "    clf = RandomForestClassifier(n_estimators = i+1, random_state=42)\n",
        "    score = cross_val_score(clf, X_train, y_train, cv=10).mean()\n",
        "    ScoreAll.append([i, score])\n",
        "ScoreAll = np.array(ScoreAll)\n",
        "\n",
        "max_score = np.where(ScoreAll == np.max(ScoreAll[:, 1]))[0][0] \n",
        "print(\"Best parameter and highest score:\", ScoreAll[max_score])\n",
        "plt.figure(figsize=[20, 5])\n",
        "plt.plot(ScoreAll[:, 0], ScoreAll[:, 1])\n",
        "plt.show()"
      ],
      "metadata": {
        "colab": {
          "base_uri": "https://localhost:8080/",
          "height": 358
        },
        "id": "TlDAXL-l2cis",
        "outputId": "564ca9d6-e16b-43a1-c7d7-3e9e1cc5dfbe"
      },
      "execution_count": null,
      "outputs": [
        {
          "output_type": "stream",
          "name": "stdout",
          "text": [
            "Best parameter and highest score: [40.          0.85750988]\n"
          ]
        },
        {
          "output_type": "display_data",
          "data": {
            "text/plain": [
              "<Figure size 1440x360 with 1 Axes>"
            ],
            "image/png": "[encoded data removed]"
          },
          "metadata": {
            "needs_background": "light"
          }
        }
      ]
    },
    {
      "cell_type": "code",
      "source": [
        "ScoreAll = []\n",
        "for i in range(30, 50):\n",
        "    clf = RandomForestClassifier(n_estimators = i, random_state=42)\n",
        "    score = cross_val_score(clf, X_train, y_train, cv=10).mean()\n",
        "    ScoreAll.append([i, score])\n",
        "ScoreAll = np.array(ScoreAll)\n",
        "\n",
        "max_score = np.where(ScoreAll == np.max(ScoreAll[:, 1]))[0][0] \n",
        "print(\"Best parameter and highest score:\", ScoreAll[max_score])\n",
        "plt.figure(figsize=[20, 5])\n",
        "plt.plot(ScoreAll[:, 0], ScoreAll[:, 1])\n",
        "plt.show()"
      ],
      "metadata": {
        "colab": {
          "base_uri": "https://localhost:8080/",
          "height": 358
        },
        "id": "e_Lep21lKz1w",
        "outputId": "7a4692e2-b103-494f-99d1-a50e86879cff"
      },
      "execution_count": null,
      "outputs": [
        {
          "output_type": "stream",
          "name": "stdout",
          "text": [
            "Best parameter and highest score: [34.          0.86185771]\n"
          ]
        },
        {
          "output_type": "display_data",
          "data": {
            "text/plain": [
              "<Figure size 1440x360 with 1 Axes>"
            ],
            "image/png": "[encoded data removed]"
          },
          "metadata": {
            "needs_background": "light"
          }
        }
      ]
    },
    {
      "cell_type": "markdown",
      "source": [
        "### Select the best max_depth"
      ],
      "metadata": {
        "id": "ZLAFZ_XS5USu"
      }
    },
    {
      "cell_type": "code",
      "source": [
        "# bulid the random forest model that n_estimators = 34\n",
        "rf = RandomForestClassifier(n_estimators=34, random_state=42)\n",
        "\n",
        "# Adjust max_depth with grid search\n",
        "param_grid = {'max_depth':np.arange(1,20)}\n",
        "GS = GridSearchCV(rf, param_grid, cv=10)\n",
        "GS.fit(X_train, y_train)\n",
        "\n",
        "best_param = GS.best_params_\n",
        "best_score = GS.best_score_\n",
        "print(best_param, best_score)"
      ],
      "metadata": {
        "colab": {
          "base_uri": "https://localhost:8080/"
        },
        "id": "mKZWFCdB5bmF",
        "outputId": "b376159c-d35e-463d-a08f-f7acbf2bfd93"
      },
      "execution_count": null,
      "outputs": [
        {
          "output_type": "stream",
          "name": "stdout",
          "text": [
            "{'max_depth': 11} 0.8618577075098814\n"
          ]
        }
      ]
    },
    {
      "cell_type": "markdown",
      "source": [
        "### Calculating  feature importance"
      ],
      "metadata": {
        "id": "krUueZuWZift"
      }
    },
    {
      "cell_type": "code",
      "source": [
        "rf.fit(X_train, y_train)\n",
        "feature_imp = pd.Series(rf.feature_importances_, index = X_test.columns).sort_values(ascending = False)\n",
        "feature_imp"
      ],
      "metadata": {
        "colab": {
          "base_uri": "https://localhost:8080/"
        },
        "id": "I87EkqdjZmtG",
        "outputId": "6dc86fcb-e506-4818-d764-4504fe7ec55f"
      },
      "execution_count": null,
      "outputs": [
        {
          "output_type": "execute_result",
          "data": {
            "text/plain": [
              "Empatica_HR      0.264759\n",
              "Hexoskin_ACCY    0.232132\n",
              "Hexoskin_RR      0.137589\n",
              "Empatica_ACCZ    0.102208\n",
              "Hexoskin_ACCZ    0.077742\n",
              "Hexoskin_ACCX    0.073699\n",
              "Empatica_ACCX    0.071003\n",
              "Empatica_ACCY    0.040867\n",
              "dtype: float64"
            ]
          },
          "metadata": {},
          "execution_count": 55
        }
      ]
    },
    {
      "cell_type": "code",
      "source": [
        "feature_imp.plot.barh()\n",
        "plt.show()"
      ],
      "metadata": {
        "colab": {
          "base_uri": "https://localhost:8080/",
          "height": 265
        },
        "id": "-W8QCQhpyZiy",
        "outputId": "23c3dc4d-4ae6-4701-9f50-686a058bd316"
      },
      "execution_count": null,
      "outputs": [
        {
          "output_type": "display_data",
          "data": {
            "text/plain": [
              "<Figure size 432x288 with 1 Axes>"
            ],
            "image/png": "[encoded data removed]"
          },
          "metadata": {
            "needs_background": "light"
          }
        }
      ]
    },
    {
      "cell_type": "markdown",
      "source": [
        "### Adjust max_features"
      ],
      "metadata": {
        "id": "vYMId5NaMoVv"
      }
    },
    {
      "cell_type": "code",
      "source": [
        "# Adjust max_depth with grid search\n",
        "param_grid = {'max_features':np.arange(1,9)}\n",
        "\n",
        "rf = RandomForestClassifier(n_estimators=34\n",
        "                            ,random_state=42\n",
        "                            ,max_depth=11)\n",
        "GS = GridSearchCV(rf, param_grid, cv=10)\n",
        "GS.fit(X_train, y_train)\n",
        "best_param = GS.best_params_\n",
        "best_score = GS.best_score_\n",
        "print(best_param, best_score)"
      ],
      "metadata": {
        "colab": {
          "base_uri": "https://localhost:8080/"
        },
        "id": "QghLiu1YMrjh",
        "outputId": "78ec6c68-93c5-4a91-cbb3-48439208eef5"
      },
      "execution_count": null,
      "outputs": [
        {
          "output_type": "stream",
          "name": "stdout",
          "text": [
            "{'max_features': 2} 0.8618577075098814\n"
          ]
        }
      ]
    },
    {
      "cell_type": "markdown",
      "source": [
        "### Use selected parameters to retrain the model"
      ],
      "metadata": {
        "id": "sztm74wi6T5C"
      }
    },
    {
      "cell_type": "code",
      "source": [
        "# create classifier object\n",
        "rf = RandomForestClassifier(n_estimators = 34, max_depth = 11, random_state = 42)"
      ],
      "metadata": {
        "id": "Ej3KCNy56aVP"
      },
      "execution_count": null,
      "outputs": []
    },
    {
      "cell_type": "code",
      "source": [
        "# use cross validation to calculate the score\n",
        "score_pre = cross_val_score(rf, X_train, y_train, cv=10).mean()\n",
        "score_pre"
      ],
      "metadata": {
        "colab": {
          "base_uri": "https://localhost:8080/"
        },
        "id": "MVsKt1AVTzHe",
        "outputId": "87b5ba0e-0fe4-43a8-f36a-5abb89b1cee8"
      },
      "execution_count": null,
      "outputs": [
        {
          "output_type": "execute_result",
          "data": {
            "text/plain": [
              "0.8618577075098814"
            ]
          },
          "metadata": {},
          "execution_count": 61
        }
      ]
    },
    {
      "cell_type": "code",
      "source": [
        "# Training the model on the training dataset\n",
        "# fit function is used to train the model using the training sets as parameters\n",
        "rf.fit(X_train, y_train)\n",
        "# performing predictions on the test dataset\n",
        "y_pred = rf.predict(X_test)\n",
        " \n",
        "# metrics are used to find accuracy or error\n",
        "from sklearn import metrics \n",
        "\n",
        "# using metrics module for accuracy calculation\n",
        "print(\"ACCURACY OF THE MODEL: \", metrics.accuracy_score(y_test, y_pred))"
      ],
      "metadata": {
        "colab": {
          "base_uri": "https://localhost:8080/"
        },
        "id": "lOyULEAfGZuK",
        "outputId": "e1cdd933-1880-44de-d08e-74b01721184f"
      },
      "execution_count": null,
      "outputs": [
        {
          "output_type": "stream",
          "name": "stdout",
          "text": [
            "ACCURACY OF THE MODEL:  0.8596491228070176\n"
          ]
        }
      ]
    },
    {
      "cell_type": "code",
      "source": [
        "# print classification report\n",
        "print(classification_report(y_test, y_pred))"
      ],
      "metadata": {
        "colab": {
          "base_uri": "https://localhost:8080/"
        },
        "id": "KQ_NumjLTA9I",
        "outputId": "06f28fd8-6deb-4f1b-917a-216eafd84add"
      },
      "execution_count": null,
      "outputs": [
        {
          "output_type": "stream",
          "name": "stdout",
          "text": [
            "              precision    recall  f1-score   support\n",
            "\n",
            "           0       0.86      0.67      0.75         9\n",
            "           1       0.81      0.93      0.87        28\n",
            "           2       0.94      0.85      0.89        20\n",
            "\n",
            "    accuracy                           0.86        57\n",
            "   macro avg       0.87      0.82      0.84        57\n",
            "weighted avg       0.87      0.86      0.86        57\n",
            "\n"
          ]
        }
      ]
    },
    {
      "cell_type": "code",
      "source": [
        "#Confusion matrix\n",
        "from sklearn import metrics\n",
        "cm = metrics.confusion_matrix(y_test, y_pred)\n",
        "score = rf.score(X_test, y_test)\n",
        "\n",
        "print('Accuracy Score: {0}'.format(score))\n",
        "plt.figure(figsize=(3,3))\n",
        "sns.heatmap(cm, annot=True, fmt=\".3f\", linewidths=.5, square = True, cmap = 'Blues_r');\n",
        "plt.ylabel('Actual label');\n",
        "plt.xlabel('Predicted label');"
      ],
      "metadata": {
        "colab": {
          "base_uri": "https://localhost:8080/",
          "height": 228
        },
        "id": "OnSfFMmiT964",
        "outputId": "38a02d64-7d5a-4ae6-ccd0-bd09f370f2df"
      },
      "execution_count": null,
      "outputs": [
        {
          "output_type": "stream",
          "name": "stdout",
          "text": [
            "Accuracy Score: 0.8596491228070176\n"
          ]
        },
        {
          "output_type": "display_data",
          "data": {
            "text/plain": [
              "<Figure size 216x216 with 2 Axes>"
            ],
            "image/png": "[encoded data removed]"
          },
          "metadata": {
            "needs_background": "light"
          }
        }
      ]
    },
    {
      "cell_type": "code",
      "source": [
        "# Hamming distance\n",
        "from sklearn.metrics import hamming_loss\n",
        "ham_distance = hamming_loss(y_test,y_pred)\n",
        "ham_distance"
      ],
      "metadata": {
        "colab": {
          "base_uri": "https://localhost:8080/"
        },
        "id": "TeB3AFkydgwY",
        "outputId": "2154980c-5e53-497f-b747-53d0de1e6eed"
      },
      "execution_count": null,
      "outputs": [
        {
          "output_type": "execute_result",
          "data": {
            "text/plain": [
              "0.14035087719298245"
            ]
          },
          "metadata": {},
          "execution_count": 69
        }
      ]
    },
    {
      "cell_type": "markdown",
      "source": [
        "# Support Vector Machine"
      ],
      "metadata": {
        "id": "nJ1KLHi5BtNm"
      }
    },
    {
      "cell_type": "code",
      "source": [
        "from sklearn.svm import SVC\n",
        "svm_model_linear = SVC(kernel = 'linear', C = 1).fit(X_train_sm, y_train_sm)\n",
        "svm_predictions = svm_model_linear.predict(X_test)\n",
        " \n",
        "# model accuracy for X_test \n",
        "accuracy = svm_model_linear.score(X_test, y_test)\n",
        "\n",
        "# creating a confusion matrix\n",
        "cm = confusion_matrix(y_test, svm_predictions)"
      ],
      "metadata": {
        "id": "x7-p6fF-CNgH"
      },
      "execution_count": null,
      "outputs": []
    },
    {
      "cell_type": "code",
      "source": [
        "# print classification report\n",
        "print(classification_report(y_test, svm_predictions))"
      ],
      "metadata": {
        "colab": {
          "base_uri": "https://localhost:8080/"
        },
        "id": "9jTx2jvBCfew",
        "outputId": "9e170fb5-c885-4437-e352-93292e84fd5b"
      },
      "execution_count": null,
      "outputs": [
        {
          "output_type": "stream",
          "name": "stdout",
          "text": [
            "              precision    recall  f1-score   support\n",
            "\n",
            "           0       0.57      0.89      0.70         9\n",
            "           1       0.79      0.79      0.79        28\n",
            "           2       1.00      0.75      0.86        20\n",
            "\n",
            "    accuracy                           0.79        57\n",
            "   macro avg       0.79      0.81      0.78        57\n",
            "weighted avg       0.83      0.79      0.80        57\n",
            "\n"
          ]
        }
      ]
    },
    {
      "cell_type": "code",
      "source": [
        "#Confusion matrix\n",
        "from sklearn import metrics\n",
        "cm = metrics.confusion_matrix(y_test, svm_predictions)\n",
        "score = svm_model_linear.score(X_test, y_test)\n",
        "\n",
        "print('Accuracy Score: {0}'.format(score))\n",
        "plt.figure(figsize=(3,3))\n",
        "sns.heatmap(cm, annot=True, fmt=\".3f\", linewidths=.5, square = True, cmap = 'Blues_r');\n",
        "plt.ylabel('Actual label');\n",
        "plt.xlabel('Predicted label');"
      ],
      "metadata": {
        "colab": {
          "base_uri": "https://localhost:8080/",
          "height": 228
        },
        "id": "Miz3HOSoCmt_",
        "outputId": "5536710d-982c-432d-adc4-6921f3b1df9d"
      },
      "execution_count": null,
      "outputs": [
        {
          "output_type": "stream",
          "name": "stdout",
          "text": [
            "Accuracy Score: 0.7894736842105263\n"
          ]
        },
        {
          "output_type": "display_data",
          "data": {
            "text/plain": [
              "<Figure size 216x216 with 2 Axes>"
            ],
            "image/png": "[encoded data removed]"
          },
          "metadata": {
            "needs_background": "light"
          }
        }
      ]
    },
    {
      "cell_type": "markdown",
      "source": [
        "# K Nearest Neighbors"
      ],
      "metadata": {
        "id": "qchDi8q8CxU0"
      }
    },
    {
      "cell_type": "code",
      "source": [
        "from sklearn.neighbors import KNeighborsClassifier\n",
        "knn = KNeighborsClassifier(n_neighbors = 7).fit(X_train_sm, y_train_sm)\n",
        " \n",
        "# accuracy on X_test\n",
        "accuracy = knn.score(X_test, y_test)\n",
        " \n",
        "# creating a confusion matrix\n",
        "knn_predictions = knn.predict(X_test)\n",
        "cm = confusion_matrix(y_test, knn_predictions)"
      ],
      "metadata": {
        "id": "yfj7khToC7A1"
      },
      "execution_count": null,
      "outputs": []
    },
    {
      "cell_type": "code",
      "source": [
        "# print classification report\n",
        "print(classification_report(y_test, knn_predictions))"
      ],
      "metadata": {
        "colab": {
          "base_uri": "https://localhost:8080/"
        },
        "id": "6wpY6hjNDJJu",
        "outputId": "7aad6e47-8b60-49e6-b2eb-fb7e682dd882"
      },
      "execution_count": null,
      "outputs": [
        {
          "output_type": "stream",
          "name": "stdout",
          "text": [
            "              precision    recall  f1-score   support\n",
            "\n",
            "           0       0.50      0.78      0.61         9\n",
            "           1       0.83      0.71      0.77        28\n",
            "           2       0.95      0.90      0.92        20\n",
            "\n",
            "    accuracy                           0.79        57\n",
            "   macro avg       0.76      0.80      0.77        57\n",
            "weighted avg       0.82      0.79      0.80        57\n",
            "\n"
          ]
        }
      ]
    },
    {
      "cell_type": "code",
      "source": [
        "#Confusion matrix\n",
        "from sklearn import metrics\n",
        "score = knn.score(X_test, y_test)\n",
        "\n",
        "print('Accuracy Score: {0}'.format(score))\n",
        "plt.figure(figsize=(3,3))\n",
        "sns.heatmap(cm, annot=True, fmt=\".3f\", linewidths=.5, square = True, cmap = 'Blues_r');\n",
        "plt.ylabel('Actual label');\n",
        "plt.xlabel('Predicted label');"
      ],
      "metadata": {
        "colab": {
          "base_uri": "https://localhost:8080/",
          "height": 232
        },
        "id": "J6LerOVTDKo2",
        "outputId": "595e1bd2-c1dd-479d-b3cb-21cfe11fd1b6"
      },
      "execution_count": null,
      "outputs": [
        {
          "output_type": "stream",
          "name": "stdout",
          "text": [
            "Accuracy Score: 0.7894736842105263\n"
          ]
        },
        {
          "output_type": "display_data",
          "data": {
            "text/plain": [
              "<Figure size 216x216 with 2 Axes>"
            ],
            "image/png": "[encoded data removed]"
          },
          "metadata": {
            "needs_background": "light"
          }
        }
      ]
    }
  ]
}