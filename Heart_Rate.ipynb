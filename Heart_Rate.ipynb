{
  "nbformat": 4,
  "nbformat_minor": 0,
  "metadata": {
    "colab": {
      "name": "Heart Rate.ipynb",
      "provenance": [],
      "collapsed_sections": [],
      "mount_file_id": "1vcVMs4oofPKXdU86ux9FByCOuWK9mjDE",
      "authorship_tag": "ABX9TyNUJoYTEE0IAMSht3xia+9G",
      "include_colab_link": true
    },
    "kernelspec": {
      "name": "python3",
      "display_name": "Python 3"
    },
    "language_info": {
      "name": "python"
    }
  },
  "cells": [
    {
      "cell_type": "markdown",
      "metadata": {
        "id": "view-in-github",
        "colab_type": "text"
      },
      "source": [
        "<a href=\"https://colab.research.google.com/github/Pgao4/Machine_learning_demo/blob/main/Heart_Rate.ipynb\" target=\"_parent\"><img src=\"https://colab.research.google.com/assets/colab-badge.svg\" alt=\"Open In Colab\"/></a>"
      ]
    },
    {
      "cell_type": "markdown",
      "source": [
        "<center><font size=5>ECE 710 - Project 3</font></center>\n",
        "<center><b>Group Member: Pengfei Gao & Shuo Wang</b></center>"
      ],
      "metadata": {
        "id": "gTHIyjGSgqpg"
      }
    },
    {
      "cell_type": "code",
      "source": [
        "import numpy as np\n",
        "import pandas as pd\n",
        "import matplotlib.pyplot as plt"
      ],
      "metadata": {
        "id": "KSMqJAgBgxyz"
      },
      "execution_count": 2,
      "outputs": []
    },
    {
      "cell_type": "markdown",
      "source": [
        "# Process the data"
      ],
      "metadata": {
        "id": "vchopQOmg0zi"
      }
    },
    {
      "cell_type": "code",
      "source": [
        "# load the data\n",
        "df = pd.read_csv('/content/drive/MyDrive/Colab Notebooks/Data for Project 3.csv')"
      ],
      "metadata": {
        "id": "O-4fSVi5g6cK"
      },
      "execution_count": 4,
      "outputs": []
    },
    {
      "cell_type": "code",
      "source": [
        "df.info()        # datatype\n",
        "df.describe()    # mean, std"
      ],
      "metadata": {
        "id": "ZigpbpnDo6MU"
      },
      "execution_count": null,
      "outputs": []
    },
    {
      "cell_type": "code",
      "source": [
        "df['Activity'] = pd.factorize(df['Activity'])[0]\n",
        "pd.value_counts(df['Activity'])"
      ],
      "metadata": {
        "colab": {
          "base_uri": "https://localhost:8080/"
        },
        "id": "8UFfjnzmmftU",
        "outputId": "97c01f9f-5ffd-49b9-aef1-980d4a7b694a"
      },
      "execution_count": 23,
      "outputs": [
        {
          "output_type": "execute_result",
          "data": {
            "text/plain": [
              "1    527297\n",
              "2    469407\n",
              "0    288682\n",
              "3        35\n",
              "Name: Activity, dtype: int64"
            ]
          },
          "metadata": {},
          "execution_count": 23
        }
      ]
    },
    {
      "cell_type": "code",
      "source": [
        "#downsampling\n",
        "idx = len(df) // 3600 * 3600\n",
        "downsample_df = df[:idx].groupby(df.index[:idx] // 3600).mean()\n",
        "#downsample_df.loc[:, 'Activity'] = df['Activity'].groupby(df.index[:idx] // 3600).mode()\n",
        "downsample_df.dropna(axis=0, how='any', inplace=True)\n",
        "downsample_df['Activity'] = downsample_df['Activity'].round().astype(int)\n",
        "downsample_df.info()        # datatype\n",
        "downsample_df.describe()    # mean, std"
      ],
      "metadata": {
        "id": "8neGk2ShuGJN"
      },
      "execution_count": null,
      "outputs": []
    },
    {
      "cell_type": "code",
      "source": [
        "pd.value_counts(downsample_df['Activity'])"
      ],
      "metadata": {
        "colab": {
          "base_uri": "https://localhost:8080/"
        },
        "id": "Xel8D_Ckpkgf",
        "outputId": "374207c9-1379-4e9b-9037-55a0b8f3ad73"
      },
      "execution_count": 36,
      "outputs": [
        {
          "output_type": "execute_result",
          "data": {
            "text/plain": [
              "1    142\n",
              "2    125\n",
              "0     46\n",
              "Name: Activity, dtype: int64"
            ]
          },
          "metadata": {},
          "execution_count": 36
        }
      ]
    }
  ]
}